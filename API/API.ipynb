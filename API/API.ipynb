{
 "cells": [
  {
   "cell_type": "code",
   "execution_count": 5,
   "metadata": {},
   "outputs": [
    {
     "name": "stdout",
     "output_type": "stream",
     "text": [
      "404\n"
     ]
    }
   ],
   "source": [
    "\n",
    "import requests\n",
    "\n",
    "response = requests.get('http://api.open-notify.org/iss-pass')\n",
    "print(response.status_code)\n"
   ]
  },
  {
   "cell_type": "code",
   "execution_count": 10,
   "metadata": {},
   "outputs": [
    {
     "name": "stdout",
     "output_type": "stream",
     "text": [
      "200\n"
     ]
    }
   ],
   "source": [
    "\n",
    "response = requests.get('http://api.open-notify.org/iss-now.json')\n",
    "print(response.status_code)\n",
    "\n"
   ]
  },
  {
   "cell_type": "code",
   "execution_count": 11,
   "metadata": {},
   "outputs": [
    {
     "name": "stdout",
     "output_type": "stream",
     "text": [
      "application/json\n"
     ]
    }
   ],
   "source": [
    "print(response.headers['Content-Type'])"
   ]
  },
  {
   "cell_type": "code",
   "execution_count": 18,
   "metadata": {},
   "outputs": [
    {
     "name": "stdout",
     "output_type": "stream",
     "text": [
      "{'Student': 'Mohit'}\n",
      "<class 'dict'>\n",
      "Mohit\n"
     ]
    }
   ],
   "source": [
    "import json\n",
    "\n",
    "json_data = '{\"Student\" : \"Mohit\"}'\n",
    "\n",
    "python_data = json.loads(json_data)\n",
    "print(python_data)\n",
    "print(type(python_data))\n",
    "print(python_data['Student'])"
   ]
  },
  {
   "cell_type": "code",
   "execution_count": 25,
   "metadata": {},
   "outputs": [
    {
     "name": "stdout",
     "output_type": "stream",
     "text": [
      "{'rollNumber': 101}\n",
      "<class 'dict'>\n",
      "101\n",
      "<class 'int'>\n"
     ]
    }
   ],
   "source": [
    "json_data = '{\"rollNumber\" : 101}'\n",
    "\n",
    "python_data = json.loads(json_data)\n",
    "print(python_data)\n",
    "print(type(python_data))\n",
    "print(python_data['rollNumber'])\n",
    "print(type(python_data['rollNumber']))"
   ]
  },
  {
   "cell_type": "code",
   "execution_count": 26,
   "metadata": {},
   "outputs": [
    {
     "name": "stdout",
     "output_type": "stream",
     "text": [
      "{'rollNumber': None}\n",
      "<class 'dict'>\n",
      "None\n",
      "<class 'NoneType'>\n"
     ]
    }
   ],
   "source": [
    "json_data = '{\"rollNumber\" : null}'\n",
    "\n",
    "python_data = json.loads(json_data)\n",
    "print(python_data)\n",
    "print(type(python_data))\n",
    "print(python_data['rollNumber'])\n",
    "print(type(python_data['rollNumber']))"
   ]
  },
  {
   "cell_type": "code",
   "execution_count": 27,
   "metadata": {},
   "outputs": [],
   "source": [
    "json_data = '{\"Student\" : {\"Name\" : \"Shubham\",\"rollNumber\" : 102}}'\n",
    "\n",
    "python_data = json.loads(json_data)"
   ]
  },
  {
   "cell_type": "code",
   "execution_count": 28,
   "metadata": {},
   "outputs": [
    {
     "data": {
      "text/plain": [
       "{'Student': {'Name': 'Shubham', 'rollNumber': 102}}"
      ]
     },
     "execution_count": 28,
     "metadata": {},
     "output_type": "execute_result"
    }
   ],
   "source": [
    "python_data"
   ]
  },
  {
   "cell_type": "code",
   "execution_count": 30,
   "metadata": {},
   "outputs": [
    {
     "name": "stdout",
     "output_type": "stream",
     "text": [
      "Shubham\n"
     ]
    }
   ],
   "source": [
    "print(python_data['Student']['Name'])"
   ]
  },
  {
   "cell_type": "code",
   "execution_count": 35,
   "metadata": {},
   "outputs": [
    {
     "name": "stdout",
     "output_type": "stream",
     "text": [
      "{'Fruits': ['Apple', 'Orange', 'Mango']}\n",
      "<class 'dict'>\n",
      "['Apple', 'Orange', 'Mango']\n",
      "<class 'list'>\n",
      "3\n",
      "Apple\n",
      "Orange\n",
      "Mango\n"
     ]
    }
   ],
   "source": [
    "json_data = '{\"Fruits\" : [\"Apple\",\"Orange\",\"Mango\"]}'\n",
    "\n",
    "python_data = json.loads(json_data)\n",
    "print(python_data)\n",
    "print(type(python_data))\n",
    "print(python_data['Fruits'])\n",
    "print(type(python_data['Fruits']))\n",
    "\n",
    "print(len((python_data['Fruits'])))\n",
    "\n",
    "for i in python_data['Fruits']:\n",
    "    print(i)"
   ]
  },
  {
   "cell_type": "code",
   "execution_count": 38,
   "metadata": {},
   "outputs": [],
   "source": [
    "\n",
    "response = requests.get('http://api.open-notify.org/iss-now.json')\n",
    "# response.text"
   ]
  },
  {
   "cell_type": "code",
   "execution_count": 40,
   "metadata": {},
   "outputs": [],
   "source": [
    "json_data = json.loads(response.text)"
   ]
  },
  {
   "cell_type": "code",
   "execution_count": 42,
   "metadata": {},
   "outputs": [
    {
     "name": "stdout",
     "output_type": "stream",
     "text": [
      "{'iss_position': {'latitude': '9.3064', 'longitude': '-107.5748'}, 'timestamp': 1607953740, 'message': 'success'}\n",
      "<class 'dict'>\n"
     ]
    }
   ],
   "source": [
    "print(json_data)\n",
    "print(type(json_data))"
   ]
  },
  {
   "cell_type": "code",
   "execution_count": 45,
   "metadata": {},
   "outputs": [
    {
     "name": "stdout",
     "output_type": "stream",
     "text": [
      "9.3064\n"
     ]
    }
   ],
   "source": [
    "all_data = json_data['iss_position']\n",
    "latitude = all_data['latitude']\n",
    "print(latitude)"
   ]
  },
  {
   "cell_type": "code",
   "execution_count": 46,
   "metadata": {},
   "outputs": [
    {
     "name": "stdout",
     "output_type": "stream",
     "text": [
      "latitude\n",
      "longitude\n"
     ]
    }
   ],
   "source": [
    "\n",
    "for i in all_data:\n",
    "    print(i)\n"
   ]
  },
  {
   "cell_type": "code",
   "execution_count": 52,
   "metadata": {},
   "outputs": [],
   "source": [
    "response = requests.get('https://dog.ceo/api/breeds/list/all')\n",
    "# print(response.text)\n",
    "json_data = response.json()"
   ]
  },
  {
   "cell_type": "code",
   "execution_count": 53,
   "metadata": {},
   "outputs": [
    {
     "name": "stdout",
     "output_type": "stream",
     "text": [
      "{'message': {'affenpinscher': [], 'african': [], 'airedale': [], 'akita': [], 'appenzeller': [], 'australian': ['shepherd'], 'basenji': [], 'beagle': [], 'bluetick': [], 'borzoi': [], 'bouvier': [], 'boxer': [], 'brabancon': [], 'briard': [], 'buhund': ['norwegian'], 'bulldog': ['boston', 'english', 'french'], 'bullterrier': ['staffordshire'], 'cairn': [], 'cattledog': ['australian'], 'chihuahua': [], 'chow': [], 'clumber': [], 'cockapoo': [], 'collie': ['border'], 'coonhound': [], 'corgi': ['cardigan'], 'cotondetulear': [], 'dachshund': [], 'dalmatian': [], 'dane': ['great'], 'deerhound': ['scottish'], 'dhole': [], 'dingo': [], 'doberman': [], 'elkhound': ['norwegian'], 'entlebucher': [], 'eskimo': [], 'finnish': ['lapphund'], 'frise': ['bichon'], 'germanshepherd': [], 'greyhound': ['italian'], 'groenendael': [], 'havanese': [], 'hound': ['afghan', 'basset', 'blood', 'english', 'ibizan', 'plott', 'walker'], 'husky': [], 'keeshond': [], 'kelpie': [], 'komondor': [], 'kuvasz': [], 'labrador': [], 'leonberg': [], 'lhasa': [], 'malamute': [], 'malinois': [], 'maltese': [], 'mastiff': ['bull', 'english', 'tibetan'], 'mexicanhairless': [], 'mix': [], 'mountain': ['bernese', 'swiss'], 'newfoundland': [], 'otterhound': [], 'ovcharka': ['caucasian'], 'papillon': [], 'pekinese': [], 'pembroke': [], 'pinscher': ['miniature'], 'pitbull': [], 'pointer': ['german', 'germanlonghair'], 'pomeranian': [], 'poodle': ['miniature', 'standard', 'toy'], 'pug': [], 'puggle': [], 'pyrenees': [], 'redbone': [], 'retriever': ['chesapeake', 'curly', 'flatcoated', 'golden'], 'ridgeback': ['rhodesian'], 'rottweiler': [], 'saluki': [], 'samoyed': [], 'schipperke': [], 'schnauzer': ['giant', 'miniature'], 'setter': ['english', 'gordon', 'irish'], 'sheepdog': ['english', 'shetland'], 'shiba': [], 'shihtzu': [], 'spaniel': ['blenheim', 'brittany', 'cocker', 'irish', 'japanese', 'sussex', 'welsh'], 'springer': ['english'], 'stbernard': [], 'terrier': ['american', 'australian', 'bedlington', 'border', 'dandie', 'fox', 'irish', 'kerryblue', 'lakeland', 'norfolk', 'norwich', 'patterdale', 'russell', 'scottish', 'sealyham', 'silky', 'tibetan', 'toy', 'westhighland', 'wheaten', 'yorkshire'], 'vizsla': [], 'waterdog': ['spanish'], 'weimaraner': [], 'whippet': [], 'wolfhound': ['irish']}, 'status': 'success'}\n"
     ]
    }
   ],
   "source": [
    "print(json_data)"
   ]
  },
  {
   "cell_type": "code",
   "execution_count": 54,
   "metadata": {},
   "outputs": [
    {
     "name": "stdout",
     "output_type": "stream",
     "text": [
      "<class 'dict'>\n"
     ]
    }
   ],
   "source": [
    "print(type(json_data))"
   ]
  },
  {
   "cell_type": "code",
   "execution_count": 57,
   "metadata": {},
   "outputs": [
    {
     "name": "stdout",
     "output_type": "stream",
     "text": [
      "affenpinscher  :  0\n",
      "african  :  0\n",
      "airedale  :  0\n",
      "akita  :  0\n",
      "appenzeller  :  0\n",
      "australian  :  1\n",
      "basenji  :  0\n",
      "beagle  :  0\n",
      "bluetick  :  0\n",
      "borzoi  :  0\n",
      "bouvier  :  0\n",
      "boxer  :  0\n",
      "brabancon  :  0\n",
      "briard  :  0\n",
      "buhund  :  1\n",
      "bulldog  :  3\n",
      "bullterrier  :  1\n",
      "cairn  :  0\n",
      "cattledog  :  1\n",
      "chihuahua  :  0\n",
      "chow  :  0\n",
      "clumber  :  0\n",
      "cockapoo  :  0\n",
      "collie  :  1\n",
      "coonhound  :  0\n",
      "corgi  :  1\n",
      "cotondetulear  :  0\n",
      "dachshund  :  0\n",
      "dalmatian  :  0\n",
      "dane  :  1\n",
      "deerhound  :  1\n",
      "dhole  :  0\n",
      "dingo  :  0\n",
      "doberman  :  0\n",
      "elkhound  :  1\n",
      "entlebucher  :  0\n",
      "eskimo  :  0\n",
      "finnish  :  1\n",
      "frise  :  1\n",
      "germanshepherd  :  0\n",
      "greyhound  :  1\n",
      "groenendael  :  0\n",
      "havanese  :  0\n",
      "hound  :  7\n",
      "husky  :  0\n",
      "keeshond  :  0\n",
      "kelpie  :  0\n",
      "komondor  :  0\n",
      "kuvasz  :  0\n",
      "labrador  :  0\n",
      "leonberg  :  0\n",
      "lhasa  :  0\n",
      "malamute  :  0\n",
      "malinois  :  0\n",
      "maltese  :  0\n",
      "mastiff  :  3\n",
      "mexicanhairless  :  0\n",
      "mix  :  0\n",
      "mountain  :  2\n",
      "newfoundland  :  0\n",
      "otterhound  :  0\n",
      "ovcharka  :  1\n",
      "papillon  :  0\n",
      "pekinese  :  0\n",
      "pembroke  :  0\n",
      "pinscher  :  1\n",
      "pitbull  :  0\n",
      "pointer  :  2\n",
      "pomeranian  :  0\n",
      "poodle  :  3\n",
      "pug  :  0\n",
      "puggle  :  0\n",
      "pyrenees  :  0\n",
      "redbone  :  0\n",
      "retriever  :  4\n",
      "ridgeback  :  1\n",
      "rottweiler  :  0\n",
      "saluki  :  0\n",
      "samoyed  :  0\n",
      "schipperke  :  0\n",
      "schnauzer  :  2\n",
      "setter  :  3\n",
      "sheepdog  :  2\n",
      "shiba  :  0\n",
      "shihtzu  :  0\n",
      "spaniel  :  7\n",
      "springer  :  1\n",
      "stbernard  :  0\n",
      "terrier  :  21\n",
      "vizsla  :  0\n",
      "waterdog  :  1\n",
      "weimaraner  :  0\n",
      "whippet  :  0\n",
      "wolfhound  :  1\n"
     ]
    }
   ],
   "source": [
    "python_data = response.json()\n",
    "\n",
    "for key,value in python_data['message'].items():\n",
    "    \n",
    "    print(key,\" : \",len(value))\n",
    "    "
   ]
  },
  {
   "cell_type": "code",
   "execution_count": null,
   "metadata": {},
   "outputs": [],
   "source": []
  }
 ],
 "metadata": {
  "kernelspec": {
   "display_name": "Python 3",
   "language": "python",
   "name": "python3"
  },
  "language_info": {
   "codemirror_mode": {
    "name": "ipython",
    "version": 3
   },
   "file_extension": ".py",
   "mimetype": "text/x-python",
   "name": "python",
   "nbconvert_exporter": "python",
   "pygments_lexer": "ipython3",
   "version": "3.8.5"
  }
 },
 "nbformat": 4,
 "nbformat_minor": 4
}
