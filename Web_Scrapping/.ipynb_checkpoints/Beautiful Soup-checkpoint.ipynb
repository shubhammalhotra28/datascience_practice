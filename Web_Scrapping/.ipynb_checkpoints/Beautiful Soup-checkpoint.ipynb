{
 "cells": [
  {
   "cell_type": "code",
   "execution_count": 3,
   "metadata": {},
   "outputs": [],
   "source": [
    "# libraries by which we can parse HTML and XML\n",
    "\n",
    "html = \"\"\"<!DOCTYPE html>\\\n",
    "<html>\\\n",
    "<head>\\\n",
    "\t<title>Testing Web Page</title>\\\n",
    "</head>\\\n",
    "<body>\\\n",
    "<h1>Web Scraping</h1>\\\n",
    "<p class = \"abc\">\\\n",
    "\tHello ! Good morning. Have a good Day !\\\n",
    "</p>\\\n",
    "\n",
    "<p id = 'def' >\\\n",
    "\t<a href=\"https://www.google.com/\"> Google </a>\\\n",
    "</p>\\\n",
    "\n",
    "<p class = 'abc'>\\\n",
    "\thello\\\n",
    "</p>\\\n",
    "</body>\\\n",
    "</html>\"\"\""
   ]
  },
  {
   "cell_type": "code",
   "execution_count": 4,
   "metadata": {},
   "outputs": [],
   "source": [
    "from bs4 import BeautifulSoup"
   ]
  },
  {
   "cell_type": "code",
   "execution_count": 5,
   "metadata": {},
   "outputs": [
    {
     "data": {
      "text/plain": [
       "<!DOCTYPE html>\n",
       "<html><head> <title>Testing Web Page</title></head><body><h1>Web Scraping</h1><p class=\"abc\">\tHello ! Good morning. Have a good Day !</p>\n",
       "<p id=\"def\"> <a href=\"https://www.google.com/\"> Google </a></p>\n",
       "<p class=\"abc\">\thello</p></body></html>"
      ]
     },
     "execution_count": 5,
     "metadata": {},
     "output_type": "execute_result"
    }
   ],
   "source": [
    "data = BeautifulSoup(html,'html.parser')\n",
    "data"
   ]
  },
  {
   "cell_type": "code",
   "execution_count": 6,
   "metadata": {},
   "outputs": [
    {
     "data": {
      "text/plain": [
       "bs4.BeautifulSoup"
      ]
     },
     "execution_count": 6,
     "metadata": {},
     "output_type": "execute_result"
    }
   ],
   "source": [
    "type(data)"
   ]
  },
  {
   "cell_type": "code",
   "execution_count": 7,
   "metadata": {},
   "outputs": [
    {
     "name": "stdout",
     "output_type": "stream",
     "text": [
      "<!DOCTYPE html>\n",
      "<html>\n",
      " <head>\n",
      "  <title>\n",
      "   Testing Web Page\n",
      "  </title>\n",
      " </head>\n",
      " <body>\n",
      "  <h1>\n",
      "   Web Scraping\n",
      "  </h1>\n",
      "  <p class=\"abc\">\n",
      "   Hello ! Good morning. Have a good Day !\n",
      "  </p>\n",
      "  <p id=\"def\">\n",
      "   <a href=\"https://www.google.com/\">\n",
      "    Google\n",
      "   </a>\n",
      "  </p>\n",
      "  <p class=\"abc\">\n",
      "   hello\n",
      "  </p>\n",
      " </body>\n",
      "</html>\n"
     ]
    }
   ],
   "source": [
    "print(data.prettify())"
   ]
  },
  {
   "cell_type": "code",
   "execution_count": 9,
   "metadata": {},
   "outputs": [
    {
     "data": {
      "text/plain": [
       "<title>Testing Web Page</title>"
      ]
     },
     "execution_count": 9,
     "metadata": {},
     "output_type": "execute_result"
    }
   ],
   "source": [
    "data.title"
   ]
  },
  {
   "cell_type": "code",
   "execution_count": 10,
   "metadata": {},
   "outputs": [
    {
     "data": {
      "text/plain": [
       "<h1>Web Scraping</h1>"
      ]
     },
     "execution_count": 10,
     "metadata": {},
     "output_type": "execute_result"
    }
   ],
   "source": [
    "data.h1"
   ]
  },
  {
   "cell_type": "code",
   "execution_count": 11,
   "metadata": {},
   "outputs": [
    {
     "data": {
      "text/plain": [
       "<p class=\"abc\">\tHello ! Good morning. Have a good Day !</p>"
      ]
     },
     "execution_count": 11,
     "metadata": {},
     "output_type": "execute_result"
    }
   ],
   "source": [
    "data.p"
   ]
  },
  {
   "cell_type": "code",
   "execution_count": 12,
   "metadata": {},
   "outputs": [],
   "source": [
    "data.h2"
   ]
  },
  {
   "cell_type": "code",
   "execution_count": 15,
   "metadata": {},
   "outputs": [
    {
     "name": "stdout",
     "output_type": "stream",
     "text": [
      "<title>Testing Web Page</title>\n",
      "title\n",
      "Testing Web Page\n"
     ]
    }
   ],
   "source": [
    "print(data.title)\n",
    "print(data.title.name)\n",
    "print(data.title.string)"
   ]
  },
  {
   "cell_type": "code",
   "execution_count": 16,
   "metadata": {},
   "outputs": [
    {
     "data": {
      "text/plain": [
       "'Web Scraping'"
      ]
     },
     "execution_count": 16,
     "metadata": {},
     "output_type": "execute_result"
    }
   ],
   "source": [
    "data.h1.string\n"
   ]
  },
  {
   "cell_type": "code",
   "execution_count": 18,
   "metadata": {},
   "outputs": [
    {
     "name": "stdout",
     "output_type": "stream",
     "text": [
      "{}\n"
     ]
    }
   ],
   "source": [
    "print(data.title.attrs)"
   ]
  },
  {
   "cell_type": "code",
   "execution_count": 19,
   "metadata": {},
   "outputs": [
    {
     "name": "stdout",
     "output_type": "stream",
     "text": [
      "{'class': ['abc']}\n"
     ]
    }
   ],
   "source": [
    "print(data.p.attrs)"
   ]
  },
  {
   "cell_type": "code",
   "execution_count": 21,
   "metadata": {},
   "outputs": [
    {
     "data": {
      "text/plain": [
       "['abc']"
      ]
     },
     "execution_count": 21,
     "metadata": {},
     "output_type": "execute_result"
    }
   ],
   "source": [
    "data.p['class']"
   ]
  },
  {
   "cell_type": "code",
   "execution_count": 23,
   "metadata": {},
   "outputs": [
    {
     "data": {
      "text/plain": [
       "' Testing Web PageWeb Scraping\\tHello ! Good morning. Have a good Day !\\n  Google \\n\\thello'"
      ]
     },
     "execution_count": 23,
     "metadata": {},
     "output_type": "execute_result"
    }
   ],
   "source": [
    "data.get_text()"
   ]
  },
  {
   "cell_type": "code",
   "execution_count": 24,
   "metadata": {},
   "outputs": [
    {
     "data": {
      "text/plain": [
       "<p class=\"abc\">\tHello ! Good morning. Have a good Day !</p>"
      ]
     },
     "execution_count": 24,
     "metadata": {},
     "output_type": "execute_result"
    }
   ],
   "source": [
    "data.p"
   ]
  },
  {
   "cell_type": "code",
   "execution_count": 26,
   "metadata": {},
   "outputs": [
    {
     "data": {
      "text/plain": [
       "<p class=\"abc\">\tHello ! Good morning. Have a good Day !</p>"
      ]
     },
     "execution_count": 26,
     "metadata": {},
     "output_type": "execute_result"
    }
   ],
   "source": [
    "data.find('p')"
   ]
  },
  {
   "cell_type": "code",
   "execution_count": 30,
   "metadata": {},
   "outputs": [],
   "source": [
    "li = data.find_all('p')"
   ]
  },
  {
   "cell_type": "code",
   "execution_count": 28,
   "metadata": {},
   "outputs": [],
   "source": [
    "data.find('pr')"
   ]
  },
  {
   "cell_type": "code",
   "execution_count": 29,
   "metadata": {},
   "outputs": [
    {
     "data": {
      "text/plain": [
       "<h1>Web Scraping</h1>"
      ]
     },
     "execution_count": 29,
     "metadata": {},
     "output_type": "execute_result"
    }
   ],
   "source": [
    "data.find('h1')"
   ]
  },
  {
   "cell_type": "code",
   "execution_count": 31,
   "metadata": {},
   "outputs": [
    {
     "name": "stdout",
     "output_type": "stream",
     "text": [
      "[<p class=\"abc\">\tHello ! Good morning. Have a good Day !</p>, <p id=\"def\"> <a href=\"https://www.google.com/\"> Google </a></p>, <p class=\"abc\">\thello</p>]\n"
     ]
    }
   ],
   "source": [
    "print(li)"
   ]
  },
  {
   "cell_type": "code",
   "execution_count": 33,
   "metadata": {},
   "outputs": [
    {
     "name": "stdout",
     "output_type": "stream",
     "text": [
      "[<p class=\"abc\">\tHello ! Good morning. Have a good Day !</p>, <p id=\"def\"> <a href=\"https://www.google.com/\"> Google </a></p>, <a href=\"https://www.google.com/\"> Google </a>, <p class=\"abc\">\thello</p>]\n"
     ]
    }
   ],
   "source": [
    "# navigating the tree : \n",
    "\n",
    "'''\n",
    "Searching Parse tree\n",
    "Going Up\n",
    "Going Down\n",
    "Doing sideways\n",
    "Going back and forth\n",
    "\n",
    "'''\n",
    "\n",
    "# for searching : find and find_all()\n",
    "\n",
    "li = data.find_all(['p','a'])\n",
    "print(li)\n"
   ]
  },
  {
   "cell_type": "code",
   "execution_count": 35,
   "metadata": {},
   "outputs": [
    {
     "data": {
      "text/plain": [
       "[<html><head> <title>Testing Web Page</title></head><body><h1>Web Scraping</h1><p class=\"abc\">\tHello ! Good morning. Have a good Day !</p>\n",
       " <p id=\"def\"> <a href=\"https://www.google.com/\"> Google </a></p>\n",
       " <p class=\"abc\">\thello</p></body></html>,\n",
       " <head> <title>Testing Web Page</title></head>,\n",
       " <title>Testing Web Page</title>,\n",
       " <body><h1>Web Scraping</h1><p class=\"abc\">\tHello ! Good morning. Have a good Day !</p>\n",
       " <p id=\"def\"> <a href=\"https://www.google.com/\"> Google </a></p>\n",
       " <p class=\"abc\">\thello</p></body>,\n",
       " <h1>Web Scraping</h1>,\n",
       " <p class=\"abc\">\tHello ! Good morning. Have a good Day !</p>,\n",
       " <p id=\"def\"> <a href=\"https://www.google.com/\"> Google </a></p>,\n",
       " <a href=\"https://www.google.com/\"> Google </a>,\n",
       " <p class=\"abc\">\thello</p>]"
      ]
     },
     "execution_count": 35,
     "metadata": {},
     "output_type": "execute_result"
    }
   ],
   "source": [
    "data.find_all(True) # to find all the tags : each and every tag"
   ]
  },
  {
   "cell_type": "code",
   "execution_count": 36,
   "metadata": {},
   "outputs": [
    {
     "data": {
      "text/plain": [
       "[<p id=\"def\"> <a href=\"https://www.google.com/\"> Google </a></p>]"
      ]
     },
     "execution_count": 36,
     "metadata": {},
     "output_type": "execute_result"
    }
   ],
   "source": [
    "data.find_all(id=\"def\")"
   ]
  },
  {
   "cell_type": "code",
   "execution_count": 37,
   "metadata": {},
   "outputs": [
    {
     "data": {
      "text/plain": [
       "[<p class=\"abc\">\tHello ! Good morning. Have a good Day !</p>,\n",
       " <p class=\"abc\">\thello</p>]"
      ]
     },
     "execution_count": 37,
     "metadata": {},
     "output_type": "execute_result"
    }
   ],
   "source": [
    "data.find_all(class_=\"abc\")"
   ]
  },
  {
   "cell_type": "code",
   "execution_count": 38,
   "metadata": {},
   "outputs": [],
   "source": [
    "# data.select('selector_value') # fetchinf desired data using CSS selector"
   ]
  },
  {
   "cell_type": "code",
   "execution_count": 39,
   "metadata": {},
   "outputs": [
    {
     "name": "stdout",
     "output_type": "stream",
     "text": [
      "<!DOCTYPE html>\n",
      "<html>\n",
      " <head>\n",
      "  <title>\n",
      "   Testing Web Page\n",
      "  </title>\n",
      " </head>\n",
      " <body>\n",
      "  <h1>\n",
      "   Web Scraping\n",
      "  </h1>\n",
      "  <p class=\"abc\">\n",
      "   Hello ! Good morning. Have a good Day !\n",
      "  </p>\n",
      "  <p id=\"def\">\n",
      "   <a href=\"https://www.google.com/\">\n",
      "    Google\n",
      "   </a>\n",
      "  </p>\n",
      "  <p class=\"abc\">\n",
      "   hello\n",
      "  </p>\n",
      " </body>\n",
      "</html>\n"
     ]
    }
   ],
   "source": [
    "# navigating on the tree\n",
    "# downwards\n",
    "\n",
    "print(data.prettify())"
   ]
  },
  {
   "cell_type": "code",
   "execution_count": 40,
   "metadata": {},
   "outputs": [
    {
     "data": {
      "text/plain": [
       "<head> <title>Testing Web Page</title></head>"
      ]
     },
     "execution_count": 40,
     "metadata": {},
     "output_type": "execute_result"
    }
   ],
   "source": [
    "data.head"
   ]
  },
  {
   "cell_type": "code",
   "execution_count": 41,
   "metadata": {},
   "outputs": [
    {
     "data": {
      "text/plain": [
       "<title>Testing Web Page</title>"
      ]
     },
     "execution_count": 41,
     "metadata": {},
     "output_type": "execute_result"
    }
   ],
   "source": [
    "data.head.title"
   ]
  },
  {
   "cell_type": "code",
   "execution_count": 42,
   "metadata": {},
   "outputs": [
    {
     "data": {
      "text/plain": [
       "'Testing Web Page'"
      ]
     },
     "execution_count": 42,
     "metadata": {},
     "output_type": "execute_result"
    }
   ],
   "source": [
    "data.head.title.string"
   ]
  },
  {
   "cell_type": "code",
   "execution_count": 43,
   "metadata": {},
   "outputs": [
    {
     "data": {
      "text/plain": [
       "'Testing Web Page'"
      ]
     },
     "execution_count": 43,
     "metadata": {},
     "output_type": "execute_result"
    }
   ],
   "source": [
    "data.title.string"
   ]
  },
  {
   "cell_type": "code",
   "execution_count": 46,
   "metadata": {},
   "outputs": [
    {
     "name": "stdout",
     "output_type": "stream",
     "text": [
      "\tHello ! Good morning. Have a good Day !\n",
      "None\n",
      "\thello\n"
     ]
    }
   ],
   "source": [
    "li = data.find_all('p')\n",
    "for i in li:\n",
    "    print(i.string) # .string when there is only one child, when multiple children it will return None"
   ]
  },
  {
   "cell_type": "code",
   "execution_count": 48,
   "metadata": {},
   "outputs": [
    {
     "name": "stdout",
     "output_type": "stream",
     "text": [
      "['\\tHello ! Good morning. Have a good Day !']\n",
      "[' ', ' Google ']\n",
      "['\\thello']\n"
     ]
    }
   ],
   "source": [
    "li = data.find_all('p')\n",
    "for i in li:\n",
    "    print(list(i.strings))"
   ]
  },
  {
   "cell_type": "code",
   "execution_count": 50,
   "metadata": {},
   "outputs": [
    {
     "name": "stdout",
     "output_type": "stream",
     "text": [
      "['Hello ! Good morning. Have a good Day !']\n",
      "['Google']\n",
      "['hello']\n"
     ]
    }
   ],
   "source": [
    "li = data.find_all('p')\n",
    "for i in li:\n",
    "    print(list(i.stripped_strings)) # this removes the extra spaces"
   ]
  },
  {
   "cell_type": "code",
   "execution_count": 51,
   "metadata": {},
   "outputs": [
    {
     "data": {
      "text/plain": [
       "<html><head> <title>Testing Web Page</title></head><body><h1>Web Scraping</h1><p class=\"abc\">\tHello ! Good morning. Have a good Day !</p>\n",
       "<p id=\"def\"> <a href=\"https://www.google.com/\"> Google </a></p>\n",
       "<p class=\"abc\">\thello</p></body></html>"
      ]
     },
     "execution_count": 51,
     "metadata": {},
     "output_type": "execute_result"
    }
   ],
   "source": [
    "data.html"
   ]
  },
  {
   "cell_type": "code",
   "execution_count": 53,
   "metadata": {},
   "outputs": [
    {
     "name": "stdout",
     "output_type": "stream",
     "text": [
      "2\n",
      "[<head> <title>Testing Web Page</title></head>, <body><h1>Web Scraping</h1><p class=\"abc\">\tHello ! Good morning. Have a good Day !</p>\n",
      "<p id=\"def\"> <a href=\"https://www.google.com/\"> Google </a></p>\n",
      "<p class=\"abc\">\thello</p></body>]\n"
     ]
    }
   ],
   "source": [
    "li = data.html.contents #gives us the list\n",
    "print(len(li))\n",
    "print(li)"
   ]
  },
  {
   "cell_type": "code",
   "execution_count": 57,
   "metadata": {},
   "outputs": [
    {
     "name": "stdout",
     "output_type": "stream",
     "text": [
      "<head> <title>Testing Web Page</title></head>\n",
      "<body><h1>Web Scraping</h1><p class=\"abc\">\tHello ! Good morning. Have a good Day !</p>\n",
      "<p id=\"def\"> <a href=\"https://www.google.com/\"> Google </a></p>\n",
      "<p class=\"abc\">\thello</p></body>\n"
     ]
    }
   ],
   "source": [
    "li2 = data.html.children # gives the iterator\n",
    "for i in li2:\n",
    "    print(i)"
   ]
  },
  {
   "cell_type": "code",
   "execution_count": 59,
   "metadata": {},
   "outputs": [
    {
     "name": "stdout",
     "output_type": "stream",
     "text": [
      "17\n"
     ]
    }
   ],
   "source": [
    "desc = list(data.html.descendants)\n",
    "print(len(desc))"
   ]
  },
  {
   "cell_type": "code",
   "execution_count": 60,
   "metadata": {},
   "outputs": [],
   "source": [
    "# we can also move upwards with the help of parents\n"
   ]
  },
  {
   "cell_type": "code",
   "execution_count": 61,
   "metadata": {},
   "outputs": [],
   "source": [
    "import requests\n",
    "from bs4 import BeautifulSoup\n",
    "\n",
    "response = requests.get('http://info.cern.ch/hypertext/WWW/WhatIs.html')\n"
   ]
  },
  {
   "cell_type": "code",
   "execution_count": 62,
   "metadata": {},
   "outputs": [
    {
     "data": {
      "text/plain": [
       "<Response [200]>"
      ]
     },
     "execution_count": 62,
     "metadata": {},
     "output_type": "execute_result"
    }
   ],
   "source": [
    "response"
   ]
  },
  {
   "cell_type": "code",
   "execution_count": 63,
   "metadata": {},
   "outputs": [
    {
     "name": "stdout",
     "output_type": "stream",
     "text": [
      "{'Date': 'Wed, 23 Dec 2020 03:32:38 GMT', 'Server': 'Apache', 'Last-Modified': 'Mon, 18 May 1992 13:38:38 GMT', 'ETag': '\"47d-2824824ad1380\"', 'Accept-Ranges': 'bytes', 'Content-Length': '1149', 'Connection': 'close', 'Content-Type': 'text/html'}\n"
     ]
    }
   ],
   "source": [
    "print(response.headers)"
   ]
  },
  {
   "cell_type": "code",
   "execution_count": 64,
   "metadata": {},
   "outputs": [],
   "source": [
    "html_data = response.text"
   ]
  },
  {
   "cell_type": "code",
   "execution_count": 65,
   "metadata": {},
   "outputs": [
    {
     "name": "stdout",
     "output_type": "stream",
     "text": [
      "<title>What is Hypertext?</title>\n",
      "<nextid 20=\"\"/>\n",
      "<h1>What is HyperText</h1>Hypertext is text which is not constrained to be linear.<p>\n",
      "Hypertext is text which contains <a href=\"Terms.html#link\" name=\"0\">links</a> to other texts. The term was\n",
      "coined by <a href=\"Xanadu.html#Nelson\" name=\"1\">Ted Nelson</a> around 1965 (see <a href=\"../History.html\" name=\"12\">History</a> ).<p>\n",
      "HyperMedia is a term used for hypertext which is not constrained to\n",
      "be text: it can include graphics, video and <a href=\"Talks/YesWeCan.snd\" name=\"9\">sound</a> , for example. Apparently\n",
      "Ted Nelson was the first to use this term too.<p>\n",
      "Hypertext and HyperMedia are concepts, not products.<p>\n",
      "See also:\n",
      "<ul>\n",
      "<li><a href=\"Terms.html\" name=\"2\">A list of terms</a> used in hypertext litterature.\n",
      "<li><a href=\"../Conferences/Overview.html\" name=\"19\">Conferences</a>\n",
      "<li><a href=\"../Products/Overview.html\" name=\"7\">Commercial (and academic) products</a>\n",
      "<li>A newsgroup on hypertext, <a href=\"news:alt.hypertext\" name=\"5\">\"alt.hypertext\"</a> .\n",
      "<li><a href=\"TheProject.html\" name=\"4\">WorldWideWeb is a project</a>  which uses hypertext concepts.\n",
      "<li><a href=\"../Standards/Overview.html\" name=\"10\">Standards</a> .\n",
      "</li></li></li></li></li></li></ul></p></p></p></p>\n"
     ]
    }
   ],
   "source": [
    "data = BeautifulSoup(html_data,'html.parser')\n",
    "\n",
    "print(data)\n"
   ]
  },
  {
   "cell_type": "code",
   "execution_count": 66,
   "metadata": {},
   "outputs": [
    {
     "data": {
      "text/plain": [
       "<h1>What is HyperText</h1>"
      ]
     },
     "execution_count": 66,
     "metadata": {},
     "output_type": "execute_result"
    }
   ],
   "source": [
    "data.h1"
   ]
  },
  {
   "cell_type": "code",
   "execution_count": 67,
   "metadata": {},
   "outputs": [
    {
     "data": {
      "text/plain": [
       "'What is HyperText'"
      ]
     },
     "execution_count": 67,
     "metadata": {},
     "output_type": "execute_result"
    }
   ],
   "source": [
    "data.h1.string"
   ]
  },
  {
   "cell_type": "code",
   "execution_count": 68,
   "metadata": {},
   "outputs": [
    {
     "name": "stdout",
     "output_type": "stream",
     "text": [
      "What is Hypertext?\n",
      "\n",
      "What is HyperTextHypertext is text which is not constrained to be linear.\n",
      "Hypertext is text which contains links to other texts. The term was\n",
      "coined by Ted Nelson around 1965 (see History ).\n",
      "HyperMedia is a term used for hypertext which is not constrained to\n",
      "be text: it can include graphics, video and sound , for example. Apparently\n",
      "Ted Nelson was the first to use this term too.\n",
      "Hypertext and HyperMedia are concepts, not products.\n",
      "See also:\n",
      "\n",
      "A list of terms used in hypertext litterature.\n",
      "Conferences\n",
      "Commercial (and academic) products\n",
      "A newsgroup on hypertext, \"alt.hypertext\" .\n",
      "WorldWideWeb is a project  which uses hypertext concepts.\n",
      "Standards .\n",
      "\n"
     ]
    }
   ],
   "source": [
    "print(data.get_text())"
   ]
  },
  {
   "cell_type": "code",
   "execution_count": 69,
   "metadata": {},
   "outputs": [
    {
     "data": {
      "text/plain": [
       "<a href=\"Terms.html#link\" name=\"0\">links</a>"
      ]
     },
     "execution_count": 69,
     "metadata": {},
     "output_type": "execute_result"
    }
   ],
   "source": [
    "data.a"
   ]
  },
  {
   "cell_type": "code",
   "execution_count": 70,
   "metadata": {},
   "outputs": [
    {
     "data": {
      "text/plain": [
       "'Terms.html#link'"
      ]
     },
     "execution_count": 70,
     "metadata": {},
     "output_type": "execute_result"
    }
   ],
   "source": [
    "data.a['href']"
   ]
  },
  {
   "cell_type": "code",
   "execution_count": 71,
   "metadata": {},
   "outputs": [],
   "source": [
    "li = data.find_all('a')\n"
   ]
  },
  {
   "cell_type": "code",
   "execution_count": 72,
   "metadata": {},
   "outputs": [
    {
     "name": "stdout",
     "output_type": "stream",
     "text": [
      "10\n"
     ]
    }
   ],
   "source": [
    "print(len(li))"
   ]
  },
  {
   "cell_type": "code",
   "execution_count": 74,
   "metadata": {},
   "outputs": [
    {
     "name": "stdout",
     "output_type": "stream",
     "text": [
      "links\n",
      "Ted Nelson\n",
      "History\n",
      "sound\n",
      "A list of terms\n",
      "Conferences\n",
      "Commercial (and academic) products\n",
      "\"alt.hypertext\"\n",
      "WorldWideWeb is a project\n",
      "Standards\n"
     ]
    }
   ],
   "source": [
    "for i in li:\n",
    "    print(i.string)"
   ]
  },
  {
   "cell_type": "code",
   "execution_count": 78,
   "metadata": {},
   "outputs": [
    {
     "name": "stdout",
     "output_type": "stream",
     "text": [
      "<ul>\n",
      "<li><a href=\"Terms.html\" name=\"2\">A list of terms</a> used in hypertext litterature.\n",
      "<li><a href=\"../Conferences/Overview.html\" name=\"19\">Conferences</a>\n",
      "<li><a href=\"../Products/Overview.html\" name=\"7\">Commercial (and academic) products</a>\n",
      "<li>A newsgroup on hypertext, <a href=\"news:alt.hypertext\" name=\"5\">\"alt.hypertext\"</a> .\n",
      "<li><a href=\"TheProject.html\" name=\"4\">WorldWideWeb is a project</a>  which uses hypertext concepts.\n",
      "<li><a href=\"../Standards/Overview.html\" name=\"10\">Standards</a> .\n",
      "</li></li></li></li></li></li></ul>\n"
     ]
    }
   ],
   "source": [
    "print(data.ul)"
   ]
  },
  {
   "cell_type": "code",
   "execution_count": 79,
   "metadata": {},
   "outputs": [],
   "source": [
    "li_2 = data.ul.find_all('a')"
   ]
  },
  {
   "cell_type": "code",
   "execution_count": 80,
   "metadata": {},
   "outputs": [
    {
     "data": {
      "text/plain": [
       "[<a href=\"Terms.html\" name=\"2\">A list of terms</a>,\n",
       " <a href=\"../Conferences/Overview.html\" name=\"19\">Conferences</a>,\n",
       " <a href=\"../Products/Overview.html\" name=\"7\">Commercial (and academic) products</a>,\n",
       " <a href=\"news:alt.hypertext\" name=\"5\">\"alt.hypertext\"</a>,\n",
       " <a href=\"TheProject.html\" name=\"4\">WorldWideWeb is a project</a>,\n",
       " <a href=\"../Standards/Overview.html\" name=\"10\">Standards</a>]"
      ]
     },
     "execution_count": 80,
     "metadata": {},
     "output_type": "execute_result"
    }
   ],
   "source": [
    "li_2"
   ]
  },
  {
   "cell_type": "code",
   "execution_count": 81,
   "metadata": {},
   "outputs": [
    {
     "name": "stdout",
     "output_type": "stream",
     "text": [
      "A list of terms\n",
      "Conferences\n",
      "Commercial (and academic) products\n",
      "\"alt.hypertext\"\n",
      "WorldWideWeb is a project\n",
      "Standards\n"
     ]
    }
   ],
   "source": [
    "for i in li_2:\n",
    "    print(i.string)"
   ]
  },
  {
   "cell_type": "code",
   "execution_count": 82,
   "metadata": {},
   "outputs": [],
   "source": [
    "\n",
    "import requests\n",
    "from bs4 import BeautifulSoup\n",
    "\n",
    "response = requests.get('https://books.toscrape.com')\n"
   ]
  },
  {
   "cell_type": "code",
   "execution_count": 84,
   "metadata": {},
   "outputs": [
    {
     "data": {
      "text/plain": [
       "<Response [200]>"
      ]
     },
     "execution_count": 84,
     "metadata": {},
     "output_type": "execute_result"
    }
   ],
   "source": [
    "response"
   ]
  },
  {
   "cell_type": "code",
   "execution_count": 85,
   "metadata": {},
   "outputs": [
    {
     "data": {
      "text/plain": [
       "{'Server': 'nginx/1.17.7', 'Date': 'Wed, 23 Dec 2020 03:49:15 GMT', 'Content-Type': 'text/html', 'Transfer-Encoding': 'chunked', 'Connection': 'keep-alive', 'Vary': 'Accept-Encoding', 'Last-Modified': 'Mon, 26 Oct 2020 16:51:13 GMT', 'Strict-Transport-Security': 'max-age=15724800; includeSubDomains', 'Content-Encoding': 'gzip'}"
      ]
     },
     "execution_count": 85,
     "metadata": {},
     "output_type": "execute_result"
    }
   ],
   "source": [
    "response.headers"
   ]
  },
  {
   "cell_type": "code",
   "execution_count": 86,
   "metadata": {},
   "outputs": [],
   "source": [
    "html_data = response.text"
   ]
  },
  {
   "cell_type": "code",
   "execution_count": 87,
   "metadata": {},
   "outputs": [],
   "source": [
    "data = BeautifulSoup(html_data,'html.parser')"
   ]
  },
  {
   "cell_type": "code",
   "execution_count": 89,
   "metadata": {},
   "outputs": [
    {
     "name": "stdout",
     "output_type": "stream",
     "text": [
      "<!DOCTYPE html>\n",
      "<!--[if lt IE 7]>      <html lang=\"en-us\" class=\"no-js lt-ie9 lt-ie8 lt-ie7\"> <![endif]-->\n",
      "<!--[if IE 7]>         <html lang=\"en-us\" class=\"no-js lt-ie9 lt-ie8\"> <![endif]-->\n",
      "<!--[if IE 8]>         <html lang=\"en-us\" class=\"no-js lt-ie9\"> <![endif]-->\n",
      "<!--[if gt IE 8]><!-->\n",
      "<html class=\"no-js\" lang=\"en-us\">\n",
      " <!--<![endif]-->\n",
      " <head>\n",
      "  <title>\n",
      "   All products | Books to Scrape - Sandbox\n",
      "  </title>\n",
      "  <meta content=\"text/html; charset=utf-8\" http-equiv=\"content-type\"/>\n",
      "  <meta content=\"24th Jun 2016 09:29\" name=\"created\"/>\n",
      "  <meta content=\"\" name=\"description\"/>\n",
      "  <meta content=\"width=device-width\" name=\"viewport\"/>\n",
      "  <meta content=\"NOARCHIVE,NOCACHE\" name=\"robots\"/>\n",
      "  <!-- Le HTML5 shim, for IE6-8 support of HTML elements -->\n",
      "  <!--[if lt IE 9]>\n",
      "        <script src=\"//html5shim.googlecode.com/svn/trunk/html5.js\"></script>\n",
      "        <![endif]-->\n",
      "  <link href=\"static/oscar/favicon.ico\" rel=\"shortcut icon\"/>\n",
      "  <link href=\"static/oscar/css/styles.css\" rel=\"stylesheet\" type=\"text/css\"/>\n",
      "  <link href=\"static/oscar/js/bootstrap-datetimepicker/bootstrap-datetimepicker.css\" rel=\"stylesheet\"/>\n",
      "  <link href=\"static/oscar/css/datetimepicker.css\" rel=\"stylesheet\" type=\"text/css\"/>\n",
      " </head>\n",
      " <body class=\"default\" id=\"default\">\n",
      "  <header class=\"header container-fluid\">\n",
      "   <div class=\"page_inner\">\n",
      "    <div class=\"row\">\n",
      "     <div class=\"col-sm-8 h1\">\n",
      "      <a href=\"index.html\">\n",
      "       Books to Scrape\n",
      "      </a>\n",
      "      <small>\n",
      "       We love being scraped!\n",
      "      </small>\n",
      "     </div>\n",
      "    </div>\n",
      "   </div>\n",
      "  </header>\n",
      "  <div class=\"container-fluid page\">\n",
      "   <div class=\"page_inner\">\n",
      "    <ul class=\"breadcrumb\">\n",
      "     <li>\n",
      "      <a href=\"index.html\">\n",
      "       Home\n",
      "      </a>\n",
      "     </li>\n",
      "     <li class=\"active\">\n",
      "      All products\n",
      "     </li>\n",
      "    </ul>\n",
      "    <div class=\"row\">\n",
      "     <aside class=\"sidebar col-sm-4 col-md-3\">\n",
      "      <div id=\"promotions_left\">\n",
      "      </div>\n",
      "      <div class=\"side_categories\">\n",
      "       <ul class=\"nav nav-list\">\n",
      "        <li>\n",
      "         <a href=\"catalogue/category/books_1/index.html\">\n",
      "          Books\n",
      "         </a>\n",
      "         <ul>\n",
      "          <li>\n",
      "           <a href=\"catalogue/category/books/travel_2/index.html\">\n",
      "            Travel\n",
      "           </a>\n",
      "          </li>\n",
      "          <li>\n",
      "           <a href=\"catalogue/category/books/mystery_3/index.html\">\n",
      "            Mystery\n",
      "           </a>\n",
      "          </li>\n",
      "          <li>\n",
      "           <a href=\"catalogue/category/books/historical-fiction_4/index.html\">\n",
      "            Historical Fiction\n",
      "           </a>\n",
      "          </li>\n",
      "          <li>\n",
      "           <a href=\"catalogue/category/books/sequential-art_5/index.html\">\n",
      "            Sequential Art\n",
      "           </a>\n",
      "          </li>\n",
      "          <li>\n",
      "           <a href=\"catalogue/category/books/classics_6/index.html\">\n",
      "            Classics\n",
      "           </a>\n",
      "          </li>\n",
      "          <li>\n",
      "           <a href=\"catalogue/category/books/philosophy_7/index.html\">\n",
      "            Philosophy\n",
      "           </a>\n",
      "          </li>\n",
      "          <li>\n",
      "           <a href=\"catalogue/category/books/romance_8/index.html\">\n",
      "            Romance\n",
      "           </a>\n",
      "          </li>\n",
      "          <li>\n",
      "           <a href=\"catalogue/category/books/womens-fiction_9/index.html\">\n",
      "            Womens Fiction\n",
      "           </a>\n",
      "          </li>\n",
      "          <li>\n",
      "           <a href=\"catalogue/category/books/fiction_10/index.html\">\n",
      "            Fiction\n",
      "           </a>\n",
      "          </li>\n",
      "          <li>\n",
      "           <a href=\"catalogue/category/books/childrens_11/index.html\">\n",
      "            Childrens\n",
      "           </a>\n",
      "          </li>\n",
      "          <li>\n",
      "           <a href=\"catalogue/category/books/religion_12/index.html\">\n",
      "            Religion\n",
      "           </a>\n",
      "          </li>\n",
      "          <li>\n",
      "           <a href=\"catalogue/category/books/nonfiction_13/index.html\">\n",
      "            Nonfiction\n",
      "           </a>\n",
      "          </li>\n",
      "          <li>\n",
      "           <a href=\"catalogue/category/books/music_14/index.html\">\n",
      "            Music\n",
      "           </a>\n",
      "          </li>\n",
      "          <li>\n",
      "           <a href=\"catalogue/category/books/default_15/index.html\">\n",
      "            Default\n",
      "           </a>\n",
      "          </li>\n",
      "          <li>\n",
      "           <a href=\"catalogue/category/books/science-fiction_16/index.html\">\n",
      "            Science Fiction\n",
      "           </a>\n",
      "          </li>\n",
      "          <li>\n",
      "           <a href=\"catalogue/category/books/sports-and-games_17/index.html\">\n",
      "            Sports and Games\n",
      "           </a>\n",
      "          </li>\n",
      "          <li>\n",
      "           <a href=\"catalogue/category/books/add-a-comment_18/index.html\">\n",
      "            Add a comment\n",
      "           </a>\n",
      "          </li>\n",
      "          <li>\n",
      "           <a href=\"catalogue/category/books/fantasy_19/index.html\">\n",
      "            Fantasy\n",
      "           </a>\n",
      "          </li>\n",
      "          <li>\n",
      "           <a href=\"catalogue/category/books/new-adult_20/index.html\">\n",
      "            New Adult\n",
      "           </a>\n",
      "          </li>\n",
      "          <li>\n",
      "           <a href=\"catalogue/category/books/young-adult_21/index.html\">\n",
      "            Young Adult\n",
      "           </a>\n",
      "          </li>\n",
      "          <li>\n",
      "           <a href=\"catalogue/category/books/science_22/index.html\">\n",
      "            Science\n",
      "           </a>\n",
      "          </li>\n",
      "          <li>\n",
      "           <a href=\"catalogue/category/books/poetry_23/index.html\">\n",
      "            Poetry\n",
      "           </a>\n",
      "          </li>\n",
      "          <li>\n",
      "           <a href=\"catalogue/category/books/paranormal_24/index.html\">\n",
      "            Paranormal\n",
      "           </a>\n",
      "          </li>\n",
      "          <li>\n",
      "           <a href=\"catalogue/category/books/art_25/index.html\">\n",
      "            Art\n",
      "           </a>\n",
      "          </li>\n",
      "          <li>\n",
      "           <a href=\"catalogue/category/books/psychology_26/index.html\">\n",
      "            Psychology\n",
      "           </a>\n",
      "          </li>\n",
      "          <li>\n",
      "           <a href=\"catalogue/category/books/autobiography_27/index.html\">\n",
      "            Autobiography\n",
      "           </a>\n",
      "          </li>\n",
      "          <li>\n",
      "           <a href=\"catalogue/category/books/parenting_28/index.html\">\n",
      "            Parenting\n",
      "           </a>\n",
      "          </li>\n",
      "          <li>\n",
      "           <a href=\"catalogue/category/books/adult-fiction_29/index.html\">\n",
      "            Adult Fiction\n",
      "           </a>\n",
      "          </li>\n",
      "          <li>\n",
      "           <a href=\"catalogue/category/books/humor_30/index.html\">\n",
      "            Humor\n",
      "           </a>\n",
      "          </li>\n",
      "          <li>\n",
      "           <a href=\"catalogue/category/books/horror_31/index.html\">\n",
      "            Horror\n",
      "           </a>\n",
      "          </li>\n",
      "          <li>\n",
      "           <a href=\"catalogue/category/books/history_32/index.html\">\n",
      "            History\n",
      "           </a>\n",
      "          </li>\n",
      "          <li>\n",
      "           <a href=\"catalogue/category/books/food-and-drink_33/index.html\">\n",
      "            Food and Drink\n",
      "           </a>\n",
      "          </li>\n",
      "          <li>\n",
      "           <a href=\"catalogue/category/books/christian-fiction_34/index.html\">\n",
      "            Christian Fiction\n",
      "           </a>\n",
      "          </li>\n",
      "          <li>\n",
      "           <a href=\"catalogue/category/books/business_35/index.html\">\n",
      "            Business\n",
      "           </a>\n",
      "          </li>\n",
      "          <li>\n",
      "           <a href=\"catalogue/category/books/biography_36/index.html\">\n",
      "            Biography\n",
      "           </a>\n",
      "          </li>\n",
      "          <li>\n",
      "           <a href=\"catalogue/category/books/thriller_37/index.html\">\n",
      "            Thriller\n",
      "           </a>\n",
      "          </li>\n",
      "          <li>\n",
      "           <a href=\"catalogue/category/books/contemporary_38/index.html\">\n",
      "            Contemporary\n",
      "           </a>\n",
      "          </li>\n",
      "          <li>\n",
      "           <a href=\"catalogue/category/books/spirituality_39/index.html\">\n",
      "            Spirituality\n",
      "           </a>\n",
      "          </li>\n",
      "          <li>\n",
      "           <a href=\"catalogue/category/books/academic_40/index.html\">\n",
      "            Academic\n",
      "           </a>\n",
      "          </li>\n",
      "          <li>\n",
      "           <a href=\"catalogue/category/books/self-help_41/index.html\">\n",
      "            Self Help\n",
      "           </a>\n",
      "          </li>\n",
      "          <li>\n",
      "           <a href=\"catalogue/category/books/historical_42/index.html\">\n",
      "            Historical\n",
      "           </a>\n",
      "          </li>\n",
      "          <li>\n",
      "           <a href=\"catalogue/category/books/christian_43/index.html\">\n",
      "            Christian\n",
      "           </a>\n",
      "          </li>\n",
      "          <li>\n",
      "           <a href=\"catalogue/category/books/suspense_44/index.html\">\n",
      "            Suspense\n",
      "           </a>\n",
      "          </li>\n",
      "          <li>\n",
      "           <a href=\"catalogue/category/books/short-stories_45/index.html\">\n",
      "            Short Stories\n",
      "           </a>\n",
      "          </li>\n",
      "          <li>\n",
      "           <a href=\"catalogue/category/books/novels_46/index.html\">\n",
      "            Novels\n",
      "           </a>\n",
      "          </li>\n",
      "          <li>\n",
      "           <a href=\"catalogue/category/books/health_47/index.html\">\n",
      "            Health\n",
      "           </a>\n",
      "          </li>\n",
      "          <li>\n",
      "           <a href=\"catalogue/category/books/politics_48/index.html\">\n",
      "            Politics\n",
      "           </a>\n",
      "          </li>\n",
      "          <li>\n",
      "           <a href=\"catalogue/category/books/cultural_49/index.html\">\n",
      "            Cultural\n",
      "           </a>\n",
      "          </li>\n",
      "          <li>\n",
      "           <a href=\"catalogue/category/books/erotica_50/index.html\">\n",
      "            Erotica\n",
      "           </a>\n",
      "          </li>\n",
      "          <li>\n",
      "           <a href=\"catalogue/category/books/crime_51/index.html\">\n",
      "            Crime\n",
      "           </a>\n",
      "          </li>\n",
      "         </ul>\n",
      "        </li>\n",
      "       </ul>\n",
      "      </div>\n",
      "     </aside>\n",
      "     <div class=\"col-sm-8 col-md-9\">\n",
      "      <div class=\"page-header action\">\n",
      "       <h1>\n",
      "        All products\n",
      "       </h1>\n",
      "      </div>\n",
      "      <div id=\"messages\">\n",
      "      </div>\n",
      "      <div id=\"promotions\">\n",
      "      </div>\n",
      "      <form class=\"form-horizontal\" method=\"get\">\n",
      "       <div style=\"display:none\">\n",
      "       </div>\n",
      "       <strong>\n",
      "        1000\n",
      "       </strong>\n",
      "       results - showing\n",
      "       <strong>\n",
      "        1\n",
      "       </strong>\n",
      "       to\n",
      "       <strong>\n",
      "        20\n",
      "       </strong>\n",
      "       .\n",
      "      </form>\n",
      "      <section>\n",
      "       <div class=\"alert alert-warning\" role=\"alert\">\n",
      "        <strong>\n",
      "         Warning!\n",
      "        </strong>\n",
      "        This is a demo website for web scraping purposes. Prices and ratings here were randomly assigned and have no real meaning.\n",
      "       </div>\n",
      "       <div>\n",
      "        <ol class=\"row\">\n",
      "         <li class=\"col-xs-6 col-sm-4 col-md-3 col-lg-3\">\n",
      "          <article class=\"product_pod\">\n",
      "           <div class=\"image_container\">\n",
      "            <a href=\"catalogue/a-light-in-the-attic_1000/index.html\">\n",
      "             <img alt=\"A Light in the Attic\" class=\"thumbnail\" src=\"media/cache/2c/da/2cdad67c44b002e7ead0cc35693c0e8b.jpg\"/>\n",
      "            </a>\n",
      "           </div>\n",
      "           <p class=\"star-rating Three\">\n",
      "            <i class=\"icon-star\">\n",
      "            </i>\n",
      "            <i class=\"icon-star\">\n",
      "            </i>\n",
      "            <i class=\"icon-star\">\n",
      "            </i>\n",
      "            <i class=\"icon-star\">\n",
      "            </i>\n",
      "            <i class=\"icon-star\">\n",
      "            </i>\n",
      "           </p>\n",
      "           <h3>\n",
      "            <a href=\"catalogue/a-light-in-the-attic_1000/index.html\" title=\"A Light in the Attic\">\n",
      "             A Light in the ...\n",
      "            </a>\n",
      "           </h3>\n",
      "           <div class=\"product_price\">\n",
      "            <p class=\"price_color\">\n",
      "             Â£51.77\n",
      "            </p>\n",
      "            <p class=\"instock availability\">\n",
      "             <i class=\"icon-ok\">\n",
      "             </i>\n",
      "             In stock\n",
      "            </p>\n",
      "            <form>\n",
      "             <button class=\"btn btn-primary btn-block\" data-loading-text=\"Adding...\" type=\"submit\">\n",
      "              Add to basket\n",
      "             </button>\n",
      "            </form>\n",
      "           </div>\n",
      "          </article>\n",
      "         </li>\n",
      "         <li class=\"col-xs-6 col-sm-4 col-md-3 col-lg-3\">\n",
      "          <article class=\"product_pod\">\n",
      "           <div class=\"image_container\">\n",
      "            <a href=\"catalogue/tipping-the-velvet_999/index.html\">\n",
      "             <img alt=\"Tipping the Velvet\" class=\"thumbnail\" src=\"media/cache/26/0c/260c6ae16bce31c8f8c95daddd9f4a1c.jpg\"/>\n",
      "            </a>\n",
      "           </div>\n",
      "           <p class=\"star-rating One\">\n",
      "            <i class=\"icon-star\">\n",
      "            </i>\n",
      "            <i class=\"icon-star\">\n",
      "            </i>\n",
      "            <i class=\"icon-star\">\n",
      "            </i>\n",
      "            <i class=\"icon-star\">\n",
      "            </i>\n",
      "            <i class=\"icon-star\">\n",
      "            </i>\n",
      "           </p>\n",
      "           <h3>\n",
      "            <a href=\"catalogue/tipping-the-velvet_999/index.html\" title=\"Tipping the Velvet\">\n",
      "             Tipping the Velvet\n",
      "            </a>\n",
      "           </h3>\n",
      "           <div class=\"product_price\">\n",
      "            <p class=\"price_color\">\n",
      "             Â£53.74\n",
      "            </p>\n",
      "            <p class=\"instock availability\">\n",
      "             <i class=\"icon-ok\">\n",
      "             </i>\n",
      "             In stock\n",
      "            </p>\n",
      "            <form>\n",
      "             <button class=\"btn btn-primary btn-block\" data-loading-text=\"Adding...\" type=\"submit\">\n",
      "              Add to basket\n",
      "             </button>\n",
      "            </form>\n",
      "           </div>\n",
      "          </article>\n",
      "         </li>\n",
      "         <li class=\"col-xs-6 col-sm-4 col-md-3 col-lg-3\">\n",
      "          <article class=\"product_pod\">\n",
      "           <div class=\"image_container\">\n",
      "            <a href=\"catalogue/soumission_998/index.html\">\n",
      "             <img alt=\"Soumission\" class=\"thumbnail\" src=\"media/cache/3e/ef/3eef99c9d9adef34639f510662022830.jpg\"/>\n",
      "            </a>\n",
      "           </div>\n",
      "           <p class=\"star-rating One\">\n",
      "            <i class=\"icon-star\">\n",
      "            </i>\n",
      "            <i class=\"icon-star\">\n",
      "            </i>\n",
      "            <i class=\"icon-star\">\n",
      "            </i>\n",
      "            <i class=\"icon-star\">\n",
      "            </i>\n",
      "            <i class=\"icon-star\">\n",
      "            </i>\n",
      "           </p>\n",
      "           <h3>\n",
      "            <a href=\"catalogue/soumission_998/index.html\" title=\"Soumission\">\n",
      "             Soumission\n",
      "            </a>\n",
      "           </h3>\n",
      "           <div class=\"product_price\">\n",
      "            <p class=\"price_color\">\n",
      "             Â£50.10\n",
      "            </p>\n",
      "            <p class=\"instock availability\">\n",
      "             <i class=\"icon-ok\">\n",
      "             </i>\n",
      "             In stock\n",
      "            </p>\n",
      "            <form>\n",
      "             <button class=\"btn btn-primary btn-block\" data-loading-text=\"Adding...\" type=\"submit\">\n",
      "              Add to basket\n",
      "             </button>\n",
      "            </form>\n",
      "           </div>\n",
      "          </article>\n",
      "         </li>\n",
      "         <li class=\"col-xs-6 col-sm-4 col-md-3 col-lg-3\">\n",
      "          <article class=\"product_pod\">\n",
      "           <div class=\"image_container\">\n",
      "            <a href=\"catalogue/sharp-objects_997/index.html\">\n",
      "             <img alt=\"Sharp Objects\" class=\"thumbnail\" src=\"media/cache/32/51/3251cf3a3412f53f339e42cac2134093.jpg\"/>\n",
      "            </a>\n",
      "           </div>\n",
      "           <p class=\"star-rating Four\">\n",
      "            <i class=\"icon-star\">\n",
      "            </i>\n",
      "            <i class=\"icon-star\">\n",
      "            </i>\n",
      "            <i class=\"icon-star\">\n",
      "            </i>\n",
      "            <i class=\"icon-star\">\n",
      "            </i>\n",
      "            <i class=\"icon-star\">\n",
      "            </i>\n",
      "           </p>\n",
      "           <h3>\n",
      "            <a href=\"catalogue/sharp-objects_997/index.html\" title=\"Sharp Objects\">\n",
      "             Sharp Objects\n",
      "            </a>\n",
      "           </h3>\n",
      "           <div class=\"product_price\">\n",
      "            <p class=\"price_color\">\n",
      "             Â£47.82\n",
      "            </p>\n",
      "            <p class=\"instock availability\">\n",
      "             <i class=\"icon-ok\">\n",
      "             </i>\n",
      "             In stock\n",
      "            </p>\n",
      "            <form>\n",
      "             <button class=\"btn btn-primary btn-block\" data-loading-text=\"Adding...\" type=\"submit\">\n",
      "              Add to basket\n",
      "             </button>\n",
      "            </form>\n",
      "           </div>\n",
      "          </article>\n",
      "         </li>\n",
      "         <li class=\"col-xs-6 col-sm-4 col-md-3 col-lg-3\">\n",
      "          <article class=\"product_pod\">\n",
      "           <div class=\"image_container\">\n",
      "            <a href=\"catalogue/sapiens-a-brief-history-of-humankind_996/index.html\">\n",
      "             <img alt=\"Sapiens: A Brief History of Humankind\" class=\"thumbnail\" src=\"media/cache/be/a5/bea5697f2534a2f86a3ef27b5a8c12a6.jpg\"/>\n",
      "            </a>\n",
      "           </div>\n",
      "           <p class=\"star-rating Five\">\n",
      "            <i class=\"icon-star\">\n",
      "            </i>\n",
      "            <i class=\"icon-star\">\n",
      "            </i>\n",
      "            <i class=\"icon-star\">\n",
      "            </i>\n",
      "            <i class=\"icon-star\">\n",
      "            </i>\n",
      "            <i class=\"icon-star\">\n",
      "            </i>\n",
      "           </p>\n",
      "           <h3>\n",
      "            <a href=\"catalogue/sapiens-a-brief-history-of-humankind_996/index.html\" title=\"Sapiens: A Brief History of Humankind\">\n",
      "             Sapiens: A Brief History ...\n",
      "            </a>\n",
      "           </h3>\n",
      "           <div class=\"product_price\">\n",
      "            <p class=\"price_color\">\n",
      "             Â£54.23\n",
      "            </p>\n",
      "            <p class=\"instock availability\">\n",
      "             <i class=\"icon-ok\">\n",
      "             </i>\n",
      "             In stock\n",
      "            </p>\n",
      "            <form>\n",
      "             <button class=\"btn btn-primary btn-block\" data-loading-text=\"Adding...\" type=\"submit\">\n",
      "              Add to basket\n",
      "             </button>\n",
      "            </form>\n",
      "           </div>\n",
      "          </article>\n",
      "         </li>\n",
      "         <li class=\"col-xs-6 col-sm-4 col-md-3 col-lg-3\">\n",
      "          <article class=\"product_pod\">\n",
      "           <div class=\"image_container\">\n",
      "            <a href=\"catalogue/the-requiem-red_995/index.html\">\n",
      "             <img alt=\"The Requiem Red\" class=\"thumbnail\" src=\"media/cache/68/33/68339b4c9bc034267e1da611ab3b34f8.jpg\"/>\n",
      "            </a>\n",
      "           </div>\n",
      "           <p class=\"star-rating One\">\n",
      "            <i class=\"icon-star\">\n",
      "            </i>\n",
      "            <i class=\"icon-star\">\n",
      "            </i>\n",
      "            <i class=\"icon-star\">\n",
      "            </i>\n",
      "            <i class=\"icon-star\">\n",
      "            </i>\n",
      "            <i class=\"icon-star\">\n",
      "            </i>\n",
      "           </p>\n",
      "           <h3>\n",
      "            <a href=\"catalogue/the-requiem-red_995/index.html\" title=\"The Requiem Red\">\n",
      "             The Requiem Red\n",
      "            </a>\n",
      "           </h3>\n",
      "           <div class=\"product_price\">\n",
      "            <p class=\"price_color\">\n",
      "             Â£22.65\n",
      "            </p>\n",
      "            <p class=\"instock availability\">\n",
      "             <i class=\"icon-ok\">\n",
      "             </i>\n",
      "             In stock\n",
      "            </p>\n",
      "            <form>\n",
      "             <button class=\"btn btn-primary btn-block\" data-loading-text=\"Adding...\" type=\"submit\">\n",
      "              Add to basket\n",
      "             </button>\n",
      "            </form>\n",
      "           </div>\n",
      "          </article>\n",
      "         </li>\n",
      "         <li class=\"col-xs-6 col-sm-4 col-md-3 col-lg-3\">\n",
      "          <article class=\"product_pod\">\n",
      "           <div class=\"image_container\">\n",
      "            <a href=\"catalogue/the-dirty-little-secrets-of-getting-your-dream-job_994/index.html\">\n",
      "             <img alt=\"The Dirty Little Secrets of Getting Your Dream Job\" class=\"thumbnail\" src=\"media/cache/92/27/92274a95b7c251fea59a2b8a78275ab4.jpg\"/>\n",
      "            </a>\n",
      "           </div>\n",
      "           <p class=\"star-rating Four\">\n",
      "            <i class=\"icon-star\">\n",
      "            </i>\n",
      "            <i class=\"icon-star\">\n",
      "            </i>\n",
      "            <i class=\"icon-star\">\n",
      "            </i>\n",
      "            <i class=\"icon-star\">\n",
      "            </i>\n",
      "            <i class=\"icon-star\">\n",
      "            </i>\n",
      "           </p>\n",
      "           <h3>\n",
      "            <a href=\"catalogue/the-dirty-little-secrets-of-getting-your-dream-job_994/index.html\" title=\"The Dirty Little Secrets of Getting Your Dream Job\">\n",
      "             The Dirty Little Secrets ...\n",
      "            </a>\n",
      "           </h3>\n",
      "           <div class=\"product_price\">\n",
      "            <p class=\"price_color\">\n",
      "             Â£33.34\n",
      "            </p>\n",
      "            <p class=\"instock availability\">\n",
      "             <i class=\"icon-ok\">\n",
      "             </i>\n",
      "             In stock\n",
      "            </p>\n",
      "            <form>\n",
      "             <button class=\"btn btn-primary btn-block\" data-loading-text=\"Adding...\" type=\"submit\">\n",
      "              Add to basket\n",
      "             </button>\n",
      "            </form>\n",
      "           </div>\n",
      "          </article>\n",
      "         </li>\n",
      "         <li class=\"col-xs-6 col-sm-4 col-md-3 col-lg-3\">\n",
      "          <article class=\"product_pod\">\n",
      "           <div class=\"image_container\">\n",
      "            <a href=\"catalogue/the-coming-woman-a-novel-based-on-the-life-of-the-infamous-feminist-victoria-woodhull_993/index.html\">\n",
      "             <img alt=\"The Coming Woman: A Novel Based on the Life of the Infamous Feminist, Victoria Woodhull\" class=\"thumbnail\" src=\"media/cache/3d/54/3d54940e57e662c4dd1f3ff00c78cc64.jpg\"/>\n",
      "            </a>\n",
      "           </div>\n",
      "           <p class=\"star-rating Three\">\n",
      "            <i class=\"icon-star\">\n",
      "            </i>\n",
      "            <i class=\"icon-star\">\n",
      "            </i>\n",
      "            <i class=\"icon-star\">\n",
      "            </i>\n",
      "            <i class=\"icon-star\">\n",
      "            </i>\n",
      "            <i class=\"icon-star\">\n",
      "            </i>\n",
      "           </p>\n",
      "           <h3>\n",
      "            <a href=\"catalogue/the-coming-woman-a-novel-based-on-the-life-of-the-infamous-feminist-victoria-woodhull_993/index.html\" title=\"The Coming Woman: A Novel Based on the Life of the Infamous Feminist, Victoria Woodhull\">\n",
      "             The Coming Woman: A ...\n",
      "            </a>\n",
      "           </h3>\n",
      "           <div class=\"product_price\">\n",
      "            <p class=\"price_color\">\n",
      "             Â£17.93\n",
      "            </p>\n",
      "            <p class=\"instock availability\">\n",
      "             <i class=\"icon-ok\">\n",
      "             </i>\n",
      "             In stock\n",
      "            </p>\n",
      "            <form>\n",
      "             <button class=\"btn btn-primary btn-block\" data-loading-text=\"Adding...\" type=\"submit\">\n",
      "              Add to basket\n",
      "             </button>\n",
      "            </form>\n",
      "           </div>\n",
      "          </article>\n",
      "         </li>\n",
      "         <li class=\"col-xs-6 col-sm-4 col-md-3 col-lg-3\">\n",
      "          <article class=\"product_pod\">\n",
      "           <div class=\"image_container\">\n",
      "            <a href=\"catalogue/the-boys-in-the-boat-nine-americans-and-their-epic-quest-for-gold-at-the-1936-berlin-olympics_992/index.html\">\n",
      "             <img alt=\"The Boys in the Boat: Nine Americans and Their Epic Quest for Gold at the 1936 Berlin Olympics\" class=\"thumbnail\" src=\"media/cache/66/88/66883b91f6804b2323c8369331cb7dd1.jpg\"/>\n",
      "            </a>\n",
      "           </div>\n",
      "           <p class=\"star-rating Four\">\n",
      "            <i class=\"icon-star\">\n",
      "            </i>\n",
      "            <i class=\"icon-star\">\n",
      "            </i>\n",
      "            <i class=\"icon-star\">\n",
      "            </i>\n",
      "            <i class=\"icon-star\">\n",
      "            </i>\n",
      "            <i class=\"icon-star\">\n",
      "            </i>\n",
      "           </p>\n",
      "           <h3>\n",
      "            <a href=\"catalogue/the-boys-in-the-boat-nine-americans-and-their-epic-quest-for-gold-at-the-1936-berlin-olympics_992/index.html\" title=\"The Boys in the Boat: Nine Americans and Their Epic Quest for Gold at the 1936 Berlin Olympics\">\n",
      "             The Boys in the ...\n",
      "            </a>\n",
      "           </h3>\n",
      "           <div class=\"product_price\">\n",
      "            <p class=\"price_color\">\n",
      "             Â£22.60\n",
      "            </p>\n",
      "            <p class=\"instock availability\">\n",
      "             <i class=\"icon-ok\">\n",
      "             </i>\n",
      "             In stock\n",
      "            </p>\n",
      "            <form>\n",
      "             <button class=\"btn btn-primary btn-block\" data-loading-text=\"Adding...\" type=\"submit\">\n",
      "              Add to basket\n",
      "             </button>\n",
      "            </form>\n",
      "           </div>\n",
      "          </article>\n",
      "         </li>\n",
      "         <li class=\"col-xs-6 col-sm-4 col-md-3 col-lg-3\">\n",
      "          <article class=\"product_pod\">\n",
      "           <div class=\"image_container\">\n",
      "            <a href=\"catalogue/the-black-maria_991/index.html\">\n",
      "             <img alt=\"The Black Maria\" class=\"thumbnail\" src=\"media/cache/58/46/5846057e28022268153beff6d352b06c.jpg\"/>\n",
      "            </a>\n",
      "           </div>\n",
      "           <p class=\"star-rating One\">\n",
      "            <i class=\"icon-star\">\n",
      "            </i>\n",
      "            <i class=\"icon-star\">\n",
      "            </i>\n",
      "            <i class=\"icon-star\">\n",
      "            </i>\n",
      "            <i class=\"icon-star\">\n",
      "            </i>\n",
      "            <i class=\"icon-star\">\n",
      "            </i>\n",
      "           </p>\n",
      "           <h3>\n",
      "            <a href=\"catalogue/the-black-maria_991/index.html\" title=\"The Black Maria\">\n",
      "             The Black Maria\n",
      "            </a>\n",
      "           </h3>\n",
      "           <div class=\"product_price\">\n",
      "            <p class=\"price_color\">\n",
      "             Â£52.15\n",
      "            </p>\n",
      "            <p class=\"instock availability\">\n",
      "             <i class=\"icon-ok\">\n",
      "             </i>\n",
      "             In stock\n",
      "            </p>\n",
      "            <form>\n",
      "             <button class=\"btn btn-primary btn-block\" data-loading-text=\"Adding...\" type=\"submit\">\n",
      "              Add to basket\n",
      "             </button>\n",
      "            </form>\n",
      "           </div>\n",
      "          </article>\n",
      "         </li>\n",
      "         <li class=\"col-xs-6 col-sm-4 col-md-3 col-lg-3\">\n",
      "          <article class=\"product_pod\">\n",
      "           <div class=\"image_container\">\n",
      "            <a href=\"catalogue/starving-hearts-triangular-trade-trilogy-1_990/index.html\">\n",
      "             <img alt=\"Starving Hearts (Triangular Trade Trilogy, #1)\" class=\"thumbnail\" src=\"media/cache/be/f4/bef44da28c98f905a3ebec0b87be8530.jpg\"/>\n",
      "            </a>\n",
      "           </div>\n",
      "           <p class=\"star-rating Two\">\n",
      "            <i class=\"icon-star\">\n",
      "            </i>\n",
      "            <i class=\"icon-star\">\n",
      "            </i>\n",
      "            <i class=\"icon-star\">\n",
      "            </i>\n",
      "            <i class=\"icon-star\">\n",
      "            </i>\n",
      "            <i class=\"icon-star\">\n",
      "            </i>\n",
      "           </p>\n",
      "           <h3>\n",
      "            <a href=\"catalogue/starving-hearts-triangular-trade-trilogy-1_990/index.html\" title=\"Starving Hearts (Triangular Trade Trilogy, #1)\">\n",
      "             Starving Hearts (Triangular Trade ...\n",
      "            </a>\n",
      "           </h3>\n",
      "           <div class=\"product_price\">\n",
      "            <p class=\"price_color\">\n",
      "             Â£13.99\n",
      "            </p>\n",
      "            <p class=\"instock availability\">\n",
      "             <i class=\"icon-ok\">\n",
      "             </i>\n",
      "             In stock\n",
      "            </p>\n",
      "            <form>\n",
      "             <button class=\"btn btn-primary btn-block\" data-loading-text=\"Adding...\" type=\"submit\">\n",
      "              Add to basket\n",
      "             </button>\n",
      "            </form>\n",
      "           </div>\n",
      "          </article>\n",
      "         </li>\n",
      "         <li class=\"col-xs-6 col-sm-4 col-md-3 col-lg-3\">\n",
      "          <article class=\"product_pod\">\n",
      "           <div class=\"image_container\">\n",
      "            <a href=\"catalogue/shakespeares-sonnets_989/index.html\">\n",
      "             <img alt=\"Shakespeare's Sonnets\" class=\"thumbnail\" src=\"media/cache/10/48/1048f63d3b5061cd2f424d20b3f9b666.jpg\"/>\n",
      "            </a>\n",
      "           </div>\n",
      "           <p class=\"star-rating Four\">\n",
      "            <i class=\"icon-star\">\n",
      "            </i>\n",
      "            <i class=\"icon-star\">\n",
      "            </i>\n",
      "            <i class=\"icon-star\">\n",
      "            </i>\n",
      "            <i class=\"icon-star\">\n",
      "            </i>\n",
      "            <i class=\"icon-star\">\n",
      "            </i>\n",
      "           </p>\n",
      "           <h3>\n",
      "            <a href=\"catalogue/shakespeares-sonnets_989/index.html\" title=\"Shakespeare's Sonnets\">\n",
      "             Shakespeare's Sonnets\n",
      "            </a>\n",
      "           </h3>\n",
      "           <div class=\"product_price\">\n",
      "            <p class=\"price_color\">\n",
      "             Â£20.66\n",
      "            </p>\n",
      "            <p class=\"instock availability\">\n",
      "             <i class=\"icon-ok\">\n",
      "             </i>\n",
      "             In stock\n",
      "            </p>\n",
      "            <form>\n",
      "             <button class=\"btn btn-primary btn-block\" data-loading-text=\"Adding...\" type=\"submit\">\n",
      "              Add to basket\n",
      "             </button>\n",
      "            </form>\n",
      "           </div>\n",
      "          </article>\n",
      "         </li>\n",
      "         <li class=\"col-xs-6 col-sm-4 col-md-3 col-lg-3\">\n",
      "          <article class=\"product_pod\">\n",
      "           <div class=\"image_container\">\n",
      "            <a href=\"catalogue/set-me-free_988/index.html\">\n",
      "             <img alt=\"Set Me Free\" class=\"thumbnail\" src=\"media/cache/5b/88/5b88c52633f53cacf162c15f4f823153.jpg\"/>\n",
      "            </a>\n",
      "           </div>\n",
      "           <p class=\"star-rating Five\">\n",
      "            <i class=\"icon-star\">\n",
      "            </i>\n",
      "            <i class=\"icon-star\">\n",
      "            </i>\n",
      "            <i class=\"icon-star\">\n",
      "            </i>\n",
      "            <i class=\"icon-star\">\n",
      "            </i>\n",
      "            <i class=\"icon-star\">\n",
      "            </i>\n",
      "           </p>\n",
      "           <h3>\n",
      "            <a href=\"catalogue/set-me-free_988/index.html\" title=\"Set Me Free\">\n",
      "             Set Me Free\n",
      "            </a>\n",
      "           </h3>\n",
      "           <div class=\"product_price\">\n",
      "            <p class=\"price_color\">\n",
      "             Â£17.46\n",
      "            </p>\n",
      "            <p class=\"instock availability\">\n",
      "             <i class=\"icon-ok\">\n",
      "             </i>\n",
      "             In stock\n",
      "            </p>\n",
      "            <form>\n",
      "             <button class=\"btn btn-primary btn-block\" data-loading-text=\"Adding...\" type=\"submit\">\n",
      "              Add to basket\n",
      "             </button>\n",
      "            </form>\n",
      "           </div>\n",
      "          </article>\n",
      "         </li>\n",
      "         <li class=\"col-xs-6 col-sm-4 col-md-3 col-lg-3\">\n",
      "          <article class=\"product_pod\">\n",
      "           <div class=\"image_container\">\n",
      "            <a href=\"catalogue/scott-pilgrims-precious-little-life-scott-pilgrim-1_987/index.html\">\n",
      "             <img alt=\"Scott Pilgrim's Precious Little Life (Scott Pilgrim #1)\" class=\"thumbnail\" src=\"media/cache/94/b1/94b1b8b244bce9677c2f29ccc890d4d2.jpg\"/>\n",
      "            </a>\n",
      "           </div>\n",
      "           <p class=\"star-rating Five\">\n",
      "            <i class=\"icon-star\">\n",
      "            </i>\n",
      "            <i class=\"icon-star\">\n",
      "            </i>\n",
      "            <i class=\"icon-star\">\n",
      "            </i>\n",
      "            <i class=\"icon-star\">\n",
      "            </i>\n",
      "            <i class=\"icon-star\">\n",
      "            </i>\n",
      "           </p>\n",
      "           <h3>\n",
      "            <a href=\"catalogue/scott-pilgrims-precious-little-life-scott-pilgrim-1_987/index.html\" title=\"Scott Pilgrim's Precious Little Life (Scott Pilgrim #1)\">\n",
      "             Scott Pilgrim's Precious Little ...\n",
      "            </a>\n",
      "           </h3>\n",
      "           <div class=\"product_price\">\n",
      "            <p class=\"price_color\">\n",
      "             Â£52.29\n",
      "            </p>\n",
      "            <p class=\"instock availability\">\n",
      "             <i class=\"icon-ok\">\n",
      "             </i>\n",
      "             In stock\n",
      "            </p>\n",
      "            <form>\n",
      "             <button class=\"btn btn-primary btn-block\" data-loading-text=\"Adding...\" type=\"submit\">\n",
      "              Add to basket\n",
      "             </button>\n",
      "            </form>\n",
      "           </div>\n",
      "          </article>\n",
      "         </li>\n",
      "         <li class=\"col-xs-6 col-sm-4 col-md-3 col-lg-3\">\n",
      "          <article class=\"product_pod\">\n",
      "           <div class=\"image_container\">\n",
      "            <a href=\"catalogue/rip-it-up-and-start-again_986/index.html\">\n",
      "             <img alt=\"Rip it Up and Start Again\" class=\"thumbnail\" src=\"media/cache/81/c4/81c4a973364e17d01f217e1188253d5e.jpg\"/>\n",
      "            </a>\n",
      "           </div>\n",
      "           <p class=\"star-rating Five\">\n",
      "            <i class=\"icon-star\">\n",
      "            </i>\n",
      "            <i class=\"icon-star\">\n",
      "            </i>\n",
      "            <i class=\"icon-star\">\n",
      "            </i>\n",
      "            <i class=\"icon-star\">\n",
      "            </i>\n",
      "            <i class=\"icon-star\">\n",
      "            </i>\n",
      "           </p>\n",
      "           <h3>\n",
      "            <a href=\"catalogue/rip-it-up-and-start-again_986/index.html\" title=\"Rip it Up and Start Again\">\n",
      "             Rip it Up and ...\n",
      "            </a>\n",
      "           </h3>\n",
      "           <div class=\"product_price\">\n",
      "            <p class=\"price_color\">\n",
      "             Â£35.02\n",
      "            </p>\n",
      "            <p class=\"instock availability\">\n",
      "             <i class=\"icon-ok\">\n",
      "             </i>\n",
      "             In stock\n",
      "            </p>\n",
      "            <form>\n",
      "             <button class=\"btn btn-primary btn-block\" data-loading-text=\"Adding...\" type=\"submit\">\n",
      "              Add to basket\n",
      "             </button>\n",
      "            </form>\n",
      "           </div>\n",
      "          </article>\n",
      "         </li>\n",
      "         <li class=\"col-xs-6 col-sm-4 col-md-3 col-lg-3\">\n",
      "          <article class=\"product_pod\">\n",
      "           <div class=\"image_container\">\n",
      "            <a href=\"catalogue/our-band-could-be-your-life-scenes-from-the-american-indie-underground-1981-1991_985/index.html\">\n",
      "             <img alt=\"Our Band Could Be Your Life: Scenes from the American Indie Underground, 1981-1991\" class=\"thumbnail\" src=\"media/cache/54/60/54607fe8945897cdcced0044103b10b6.jpg\"/>\n",
      "            </a>\n",
      "           </div>\n",
      "           <p class=\"star-rating Three\">\n",
      "            <i class=\"icon-star\">\n",
      "            </i>\n",
      "            <i class=\"icon-star\">\n",
      "            </i>\n",
      "            <i class=\"icon-star\">\n",
      "            </i>\n",
      "            <i class=\"icon-star\">\n",
      "            </i>\n",
      "            <i class=\"icon-star\">\n",
      "            </i>\n",
      "           </p>\n",
      "           <h3>\n",
      "            <a href=\"catalogue/our-band-could-be-your-life-scenes-from-the-american-indie-underground-1981-1991_985/index.html\" title=\"Our Band Could Be Your Life: Scenes from the American Indie Underground, 1981-1991\">\n",
      "             Our Band Could Be ...\n",
      "            </a>\n",
      "           </h3>\n",
      "           <div class=\"product_price\">\n",
      "            <p class=\"price_color\">\n",
      "             Â£57.25\n",
      "            </p>\n",
      "            <p class=\"instock availability\">\n",
      "             <i class=\"icon-ok\">\n",
      "             </i>\n",
      "             In stock\n",
      "            </p>\n",
      "            <form>\n",
      "             <button class=\"btn btn-primary btn-block\" data-loading-text=\"Adding...\" type=\"submit\">\n",
      "              Add to basket\n",
      "             </button>\n",
      "            </form>\n",
      "           </div>\n",
      "          </article>\n",
      "         </li>\n",
      "         <li class=\"col-xs-6 col-sm-4 col-md-3 col-lg-3\">\n",
      "          <article class=\"product_pod\">\n",
      "           <div class=\"image_container\">\n",
      "            <a href=\"catalogue/olio_984/index.html\">\n",
      "             <img alt=\"Olio\" class=\"thumbnail\" src=\"media/cache/55/33/553310a7162dfbc2c6d19a84da0df9e1.jpg\"/>\n",
      "            </a>\n",
      "           </div>\n",
      "           <p class=\"star-rating One\">\n",
      "            <i class=\"icon-star\">\n",
      "            </i>\n",
      "            <i class=\"icon-star\">\n",
      "            </i>\n",
      "            <i class=\"icon-star\">\n",
      "            </i>\n",
      "            <i class=\"icon-star\">\n",
      "            </i>\n",
      "            <i class=\"icon-star\">\n",
      "            </i>\n",
      "           </p>\n",
      "           <h3>\n",
      "            <a href=\"catalogue/olio_984/index.html\" title=\"Olio\">\n",
      "             Olio\n",
      "            </a>\n",
      "           </h3>\n",
      "           <div class=\"product_price\">\n",
      "            <p class=\"price_color\">\n",
      "             Â£23.88\n",
      "            </p>\n",
      "            <p class=\"instock availability\">\n",
      "             <i class=\"icon-ok\">\n",
      "             </i>\n",
      "             In stock\n",
      "            </p>\n",
      "            <form>\n",
      "             <button class=\"btn btn-primary btn-block\" data-loading-text=\"Adding...\" type=\"submit\">\n",
      "              Add to basket\n",
      "             </button>\n",
      "            </form>\n",
      "           </div>\n",
      "          </article>\n",
      "         </li>\n",
      "         <li class=\"col-xs-6 col-sm-4 col-md-3 col-lg-3\">\n",
      "          <article class=\"product_pod\">\n",
      "           <div class=\"image_container\">\n",
      "            <a href=\"catalogue/mesaerion-the-best-science-fiction-stories-1800-1849_983/index.html\">\n",
      "             <img alt=\"Mesaerion: The Best Science Fiction Stories 1800-1849\" class=\"thumbnail\" src=\"media/cache/09/a3/09a3aef48557576e1a85ba7efea8ecb7.jpg\"/>\n",
      "            </a>\n",
      "           </div>\n",
      "           <p class=\"star-rating One\">\n",
      "            <i class=\"icon-star\">\n",
      "            </i>\n",
      "            <i class=\"icon-star\">\n",
      "            </i>\n",
      "            <i class=\"icon-star\">\n",
      "            </i>\n",
      "            <i class=\"icon-star\">\n",
      "            </i>\n",
      "            <i class=\"icon-star\">\n",
      "            </i>\n",
      "           </p>\n",
      "           <h3>\n",
      "            <a href=\"catalogue/mesaerion-the-best-science-fiction-stories-1800-1849_983/index.html\" title=\"Mesaerion: The Best Science Fiction Stories 1800-1849\">\n",
      "             Mesaerion: The Best Science ...\n",
      "            </a>\n",
      "           </h3>\n",
      "           <div class=\"product_price\">\n",
      "            <p class=\"price_color\">\n",
      "             Â£37.59\n",
      "            </p>\n",
      "            <p class=\"instock availability\">\n",
      "             <i class=\"icon-ok\">\n",
      "             </i>\n",
      "             In stock\n",
      "            </p>\n",
      "            <form>\n",
      "             <button class=\"btn btn-primary btn-block\" data-loading-text=\"Adding...\" type=\"submit\">\n",
      "              Add to basket\n",
      "             </button>\n",
      "            </form>\n",
      "           </div>\n",
      "          </article>\n",
      "         </li>\n",
      "         <li class=\"col-xs-6 col-sm-4 col-md-3 col-lg-3\">\n",
      "          <article class=\"product_pod\">\n",
      "           <div class=\"image_container\">\n",
      "            <a href=\"catalogue/libertarianism-for-beginners_982/index.html\">\n",
      "             <img alt=\"Libertarianism for Beginners\" class=\"thumbnail\" src=\"media/cache/0b/bc/0bbcd0a6f4bcd81ccb1049a52736406e.jpg\"/>\n",
      "            </a>\n",
      "           </div>\n",
      "           <p class=\"star-rating Two\">\n",
      "            <i class=\"icon-star\">\n",
      "            </i>\n",
      "            <i class=\"icon-star\">\n",
      "            </i>\n",
      "            <i class=\"icon-star\">\n",
      "            </i>\n",
      "            <i class=\"icon-star\">\n",
      "            </i>\n",
      "            <i class=\"icon-star\">\n",
      "            </i>\n",
      "           </p>\n",
      "           <h3>\n",
      "            <a href=\"catalogue/libertarianism-for-beginners_982/index.html\" title=\"Libertarianism for Beginners\">\n",
      "             Libertarianism for Beginners\n",
      "            </a>\n",
      "           </h3>\n",
      "           <div class=\"product_price\">\n",
      "            <p class=\"price_color\">\n",
      "             Â£51.33\n",
      "            </p>\n",
      "            <p class=\"instock availability\">\n",
      "             <i class=\"icon-ok\">\n",
      "             </i>\n",
      "             In stock\n",
      "            </p>\n",
      "            <form>\n",
      "             <button class=\"btn btn-primary btn-block\" data-loading-text=\"Adding...\" type=\"submit\">\n",
      "              Add to basket\n",
      "             </button>\n",
      "            </form>\n",
      "           </div>\n",
      "          </article>\n",
      "         </li>\n",
      "         <li class=\"col-xs-6 col-sm-4 col-md-3 col-lg-3\">\n",
      "          <article class=\"product_pod\">\n",
      "           <div class=\"image_container\">\n",
      "            <a href=\"catalogue/its-only-the-himalayas_981/index.html\">\n",
      "             <img alt=\"It's Only the Himalayas\" class=\"thumbnail\" src=\"media/cache/27/a5/27a53d0bb95bdd88288eaf66c9230d7e.jpg\"/>\n",
      "            </a>\n",
      "           </div>\n",
      "           <p class=\"star-rating Two\">\n",
      "            <i class=\"icon-star\">\n",
      "            </i>\n",
      "            <i class=\"icon-star\">\n",
      "            </i>\n",
      "            <i class=\"icon-star\">\n",
      "            </i>\n",
      "            <i class=\"icon-star\">\n",
      "            </i>\n",
      "            <i class=\"icon-star\">\n",
      "            </i>\n",
      "           </p>\n",
      "           <h3>\n",
      "            <a href=\"catalogue/its-only-the-himalayas_981/index.html\" title=\"It's Only the Himalayas\">\n",
      "             It's Only the Himalayas\n",
      "            </a>\n",
      "           </h3>\n",
      "           <div class=\"product_price\">\n",
      "            <p class=\"price_color\">\n",
      "             Â£45.17\n",
      "            </p>\n",
      "            <p class=\"instock availability\">\n",
      "             <i class=\"icon-ok\">\n",
      "             </i>\n",
      "             In stock\n",
      "            </p>\n",
      "            <form>\n",
      "             <button class=\"btn btn-primary btn-block\" data-loading-text=\"Adding...\" type=\"submit\">\n",
      "              Add to basket\n",
      "             </button>\n",
      "            </form>\n",
      "           </div>\n",
      "          </article>\n",
      "         </li>\n",
      "        </ol>\n",
      "        <div>\n",
      "         <ul class=\"pager\">\n",
      "          <li class=\"current\">\n",
      "           Page 1 of 50\n",
      "          </li>\n",
      "          <li class=\"next\">\n",
      "           <a href=\"catalogue/page-2.html\">\n",
      "            next\n",
      "           </a>\n",
      "          </li>\n",
      "         </ul>\n",
      "        </div>\n",
      "       </div>\n",
      "      </section>\n",
      "     </div>\n",
      "    </div>\n",
      "    <!-- /row -->\n",
      "   </div>\n",
      "   <!-- /page_inner -->\n",
      "  </div>\n",
      "  <!-- /container-fluid -->\n",
      "  <footer class=\"footer container-fluid\">\n",
      "  </footer>\n",
      "  <!-- jQuery -->\n",
      "  <script src=\"http://ajax.googleapis.com/ajax/libs/jquery/1.9.1/jquery.min.js\">\n",
      "  </script>\n",
      "  <script>\n",
      "   window.jQuery || document.write('<script src=\"static/oscar/js/jquery/jquery-1.9.1.min.js\"><\\/script>')\n",
      "  </script>\n",
      "  <!-- Twitter Bootstrap -->\n",
      "  <script src=\"static/oscar/js/bootstrap3/bootstrap.min.js\" type=\"text/javascript\">\n",
      "  </script>\n",
      "  <!-- Oscar -->\n",
      "  <script charset=\"utf-8\" src=\"static/oscar/js/oscar/ui.js\" type=\"text/javascript\">\n",
      "  </script>\n",
      "  <script charset=\"utf-8\" src=\"static/oscar/js/bootstrap-datetimepicker/bootstrap-datetimepicker.js\" type=\"text/javascript\">\n",
      "  </script>\n",
      "  <script charset=\"utf-8\" src=\"static/oscar/js/bootstrap-datetimepicker/locales/bootstrap-datetimepicker.all.js\" type=\"text/javascript\">\n",
      "  </script>\n",
      "  <script type=\"text/javascript\">\n",
      "   $(function() {\n",
      "                \n",
      "    \n",
      "    \n",
      "    oscar.init();\n",
      "\n",
      "    oscar.search.init();\n",
      "\n",
      "            });\n",
      "  </script>\n",
      "  <!-- Version: N/A -->\n",
      " </body>\n",
      "</html>\n",
      "\n"
     ]
    }
   ],
   "source": [
    "print(data.prettify())"
   ]
  },
  {
   "cell_type": "code",
   "execution_count": 90,
   "metadata": {},
   "outputs": [
    {
     "data": {
      "text/plain": [
       "<title>\n",
       "    All products | Books to Scrape - Sandbox\n",
       "</title>"
      ]
     },
     "execution_count": 90,
     "metadata": {},
     "output_type": "execute_result"
    }
   ],
   "source": [
    "data.title"
   ]
  },
  {
   "cell_type": "code",
   "execution_count": 91,
   "metadata": {},
   "outputs": [
    {
     "data": {
      "text/plain": [
       "'\\n    All products | Books to Scrape - Sandbox\\n'"
      ]
     },
     "execution_count": 91,
     "metadata": {},
     "output_type": "execute_result"
    }
   ],
   "source": [
    "data.title.string"
   ]
  },
  {
   "cell_type": "code",
   "execution_count": 92,
   "metadata": {},
   "outputs": [
    {
     "data": {
      "text/plain": [
       "<a href=\"index.html\">Books to Scrape</a>"
      ]
     },
     "execution_count": 92,
     "metadata": {},
     "output_type": "execute_result"
    }
   ],
   "source": [
    "data.a"
   ]
  },
  {
   "cell_type": "code",
   "execution_count": 93,
   "metadata": {},
   "outputs": [
    {
     "data": {
      "text/plain": [
       "'Books to Scrape'"
      ]
     },
     "execution_count": 93,
     "metadata": {},
     "output_type": "execute_result"
    }
   ],
   "source": [
    "data.a.string"
   ]
  },
  {
   "cell_type": "code",
   "execution_count": 95,
   "metadata": {},
   "outputs": [
    {
     "data": {
      "text/plain": [
       "<a href=\"index.html\">Books to Scrape</a>"
      ]
     },
     "execution_count": 95,
     "metadata": {},
     "output_type": "execute_result"
    }
   ],
   "source": [
    "data.header.a"
   ]
  },
  {
   "cell_type": "code",
   "execution_count": 96,
   "metadata": {},
   "outputs": [
    {
     "data": {
      "text/plain": [
       "'Books to Scrape'"
      ]
     },
     "execution_count": 96,
     "metadata": {},
     "output_type": "execute_result"
    }
   ],
   "source": [
    "data.header.a.string"
   ]
  },
  {
   "cell_type": "code",
   "execution_count": 100,
   "metadata": {},
   "outputs": [],
   "source": [
    "b1 = data.find(class_ = \"product_pod\")"
   ]
  },
  {
   "cell_type": "code",
   "execution_count": 101,
   "metadata": {},
   "outputs": [
    {
     "data": {
      "text/plain": [
       "<article class=\"product_pod\">\n",
       "<div class=\"image_container\">\n",
       "<a href=\"catalogue/a-light-in-the-attic_1000/index.html\"><img alt=\"A Light in the Attic\" class=\"thumbnail\" src=\"media/cache/2c/da/2cdad67c44b002e7ead0cc35693c0e8b.jpg\"/></a>\n",
       "</div>\n",
       "<p class=\"star-rating Three\">\n",
       "<i class=\"icon-star\"></i>\n",
       "<i class=\"icon-star\"></i>\n",
       "<i class=\"icon-star\"></i>\n",
       "<i class=\"icon-star\"></i>\n",
       "<i class=\"icon-star\"></i>\n",
       "</p>\n",
       "<h3><a href=\"catalogue/a-light-in-the-attic_1000/index.html\" title=\"A Light in the Attic\">A Light in the ...</a></h3>\n",
       "<div class=\"product_price\">\n",
       "<p class=\"price_color\">Â£51.77</p>\n",
       "<p class=\"instock availability\">\n",
       "<i class=\"icon-ok\"></i>\n",
       "    \n",
       "        In stock\n",
       "    \n",
       "</p>\n",
       "<form>\n",
       "<button class=\"btn btn-primary btn-block\" data-loading-text=\"Adding...\" type=\"submit\">Add to basket</button>\n",
       "</form>\n",
       "</div>\n",
       "</article>"
      ]
     },
     "execution_count": 101,
     "metadata": {},
     "output_type": "execute_result"
    }
   ],
   "source": [
    "b1"
   ]
  },
  {
   "cell_type": "code",
   "execution_count": 102,
   "metadata": {},
   "outputs": [
    {
     "data": {
      "text/plain": [
       "<h3><a href=\"catalogue/a-light-in-the-attic_1000/index.html\" title=\"A Light in the Attic\">A Light in the ...</a></h3>"
      ]
     },
     "execution_count": 102,
     "metadata": {},
     "output_type": "execute_result"
    }
   ],
   "source": [
    "b1.h3"
   ]
  },
  {
   "cell_type": "code",
   "execution_count": 103,
   "metadata": {},
   "outputs": [
    {
     "data": {
      "text/plain": [
       "<a href=\"catalogue/a-light-in-the-attic_1000/index.html\" title=\"A Light in the Attic\">A Light in the ...</a>"
      ]
     },
     "execution_count": 103,
     "metadata": {},
     "output_type": "execute_result"
    }
   ],
   "source": [
    "b1.h3.a"
   ]
  },
  {
   "cell_type": "code",
   "execution_count": 104,
   "metadata": {},
   "outputs": [
    {
     "data": {
      "text/plain": [
       "'A Light in the Attic'"
      ]
     },
     "execution_count": 104,
     "metadata": {},
     "output_type": "execute_result"
    }
   ],
   "source": [
    "b1.h3.a['title']"
   ]
  },
  {
   "cell_type": "code",
   "execution_count": 107,
   "metadata": {},
   "outputs": [
    {
     "data": {
      "text/plain": [
       "'catalogue/a-light-in-the-attic_1000/index.html'"
      ]
     },
     "execution_count": 107,
     "metadata": {},
     "output_type": "execute_result"
    }
   ],
   "source": [
    "b1.h3.a['href'] # relative url"
   ]
  },
  {
   "cell_type": "code",
   "execution_count": 108,
   "metadata": {},
   "outputs": [
    {
     "name": "stdout",
     "output_type": "stream",
     "text": [
      "https://books.toscrape.com/catalogue/a-light-in-the-attic_1000/index.html\n"
     ]
    }
   ],
   "source": [
    "print('https://books.toscrape.com/'+b1.h3.a['href'])"
   ]
  },
  {
   "cell_type": "code",
   "execution_count": 110,
   "metadata": {},
   "outputs": [],
   "source": [
    "books = data.find_all(class_ = \"product_pod\")"
   ]
  },
  {
   "cell_type": "code",
   "execution_count": 111,
   "metadata": {},
   "outputs": [
    {
     "name": "stdout",
     "output_type": "stream",
     "text": [
      "20\n"
     ]
    }
   ],
   "source": [
    "print(len(books))"
   ]
  },
  {
   "cell_type": "code",
   "execution_count": 112,
   "metadata": {},
   "outputs": [
    {
     "data": {
      "text/plain": [
       "[<article class=\"product_pod\">\n",
       " <div class=\"image_container\">\n",
       " <a href=\"catalogue/a-light-in-the-attic_1000/index.html\"><img alt=\"A Light in the Attic\" class=\"thumbnail\" src=\"media/cache/2c/da/2cdad67c44b002e7ead0cc35693c0e8b.jpg\"/></a>\n",
       " </div>\n",
       " <p class=\"star-rating Three\">\n",
       " <i class=\"icon-star\"></i>\n",
       " <i class=\"icon-star\"></i>\n",
       " <i class=\"icon-star\"></i>\n",
       " <i class=\"icon-star\"></i>\n",
       " <i class=\"icon-star\"></i>\n",
       " </p>\n",
       " <h3><a href=\"catalogue/a-light-in-the-attic_1000/index.html\" title=\"A Light in the Attic\">A Light in the ...</a></h3>\n",
       " <div class=\"product_price\">\n",
       " <p class=\"price_color\">Â£51.77</p>\n",
       " <p class=\"instock availability\">\n",
       " <i class=\"icon-ok\"></i>\n",
       "     \n",
       "         In stock\n",
       "     \n",
       " </p>\n",
       " <form>\n",
       " <button class=\"btn btn-primary btn-block\" data-loading-text=\"Adding...\" type=\"submit\">Add to basket</button>\n",
       " </form>\n",
       " </div>\n",
       " </article>,\n",
       " <article class=\"product_pod\">\n",
       " <div class=\"image_container\">\n",
       " <a href=\"catalogue/tipping-the-velvet_999/index.html\"><img alt=\"Tipping the Velvet\" class=\"thumbnail\" src=\"media/cache/26/0c/260c6ae16bce31c8f8c95daddd9f4a1c.jpg\"/></a>\n",
       " </div>\n",
       " <p class=\"star-rating One\">\n",
       " <i class=\"icon-star\"></i>\n",
       " <i class=\"icon-star\"></i>\n",
       " <i class=\"icon-star\"></i>\n",
       " <i class=\"icon-star\"></i>\n",
       " <i class=\"icon-star\"></i>\n",
       " </p>\n",
       " <h3><a href=\"catalogue/tipping-the-velvet_999/index.html\" title=\"Tipping the Velvet\">Tipping the Velvet</a></h3>\n",
       " <div class=\"product_price\">\n",
       " <p class=\"price_color\">Â£53.74</p>\n",
       " <p class=\"instock availability\">\n",
       " <i class=\"icon-ok\"></i>\n",
       "     \n",
       "         In stock\n",
       "     \n",
       " </p>\n",
       " <form>\n",
       " <button class=\"btn btn-primary btn-block\" data-loading-text=\"Adding...\" type=\"submit\">Add to basket</button>\n",
       " </form>\n",
       " </div>\n",
       " </article>,\n",
       " <article class=\"product_pod\">\n",
       " <div class=\"image_container\">\n",
       " <a href=\"catalogue/soumission_998/index.html\"><img alt=\"Soumission\" class=\"thumbnail\" src=\"media/cache/3e/ef/3eef99c9d9adef34639f510662022830.jpg\"/></a>\n",
       " </div>\n",
       " <p class=\"star-rating One\">\n",
       " <i class=\"icon-star\"></i>\n",
       " <i class=\"icon-star\"></i>\n",
       " <i class=\"icon-star\"></i>\n",
       " <i class=\"icon-star\"></i>\n",
       " <i class=\"icon-star\"></i>\n",
       " </p>\n",
       " <h3><a href=\"catalogue/soumission_998/index.html\" title=\"Soumission\">Soumission</a></h3>\n",
       " <div class=\"product_price\">\n",
       " <p class=\"price_color\">Â£50.10</p>\n",
       " <p class=\"instock availability\">\n",
       " <i class=\"icon-ok\"></i>\n",
       "     \n",
       "         In stock\n",
       "     \n",
       " </p>\n",
       " <form>\n",
       " <button class=\"btn btn-primary btn-block\" data-loading-text=\"Adding...\" type=\"submit\">Add to basket</button>\n",
       " </form>\n",
       " </div>\n",
       " </article>,\n",
       " <article class=\"product_pod\">\n",
       " <div class=\"image_container\">\n",
       " <a href=\"catalogue/sharp-objects_997/index.html\"><img alt=\"Sharp Objects\" class=\"thumbnail\" src=\"media/cache/32/51/3251cf3a3412f53f339e42cac2134093.jpg\"/></a>\n",
       " </div>\n",
       " <p class=\"star-rating Four\">\n",
       " <i class=\"icon-star\"></i>\n",
       " <i class=\"icon-star\"></i>\n",
       " <i class=\"icon-star\"></i>\n",
       " <i class=\"icon-star\"></i>\n",
       " <i class=\"icon-star\"></i>\n",
       " </p>\n",
       " <h3><a href=\"catalogue/sharp-objects_997/index.html\" title=\"Sharp Objects\">Sharp Objects</a></h3>\n",
       " <div class=\"product_price\">\n",
       " <p class=\"price_color\">Â£47.82</p>\n",
       " <p class=\"instock availability\">\n",
       " <i class=\"icon-ok\"></i>\n",
       "     \n",
       "         In stock\n",
       "     \n",
       " </p>\n",
       " <form>\n",
       " <button class=\"btn btn-primary btn-block\" data-loading-text=\"Adding...\" type=\"submit\">Add to basket</button>\n",
       " </form>\n",
       " </div>\n",
       " </article>,\n",
       " <article class=\"product_pod\">\n",
       " <div class=\"image_container\">\n",
       " <a href=\"catalogue/sapiens-a-brief-history-of-humankind_996/index.html\"><img alt=\"Sapiens: A Brief History of Humankind\" class=\"thumbnail\" src=\"media/cache/be/a5/bea5697f2534a2f86a3ef27b5a8c12a6.jpg\"/></a>\n",
       " </div>\n",
       " <p class=\"star-rating Five\">\n",
       " <i class=\"icon-star\"></i>\n",
       " <i class=\"icon-star\"></i>\n",
       " <i class=\"icon-star\"></i>\n",
       " <i class=\"icon-star\"></i>\n",
       " <i class=\"icon-star\"></i>\n",
       " </p>\n",
       " <h3><a href=\"catalogue/sapiens-a-brief-history-of-humankind_996/index.html\" title=\"Sapiens: A Brief History of Humankind\">Sapiens: A Brief History ...</a></h3>\n",
       " <div class=\"product_price\">\n",
       " <p class=\"price_color\">Â£54.23</p>\n",
       " <p class=\"instock availability\">\n",
       " <i class=\"icon-ok\"></i>\n",
       "     \n",
       "         In stock\n",
       "     \n",
       " </p>\n",
       " <form>\n",
       " <button class=\"btn btn-primary btn-block\" data-loading-text=\"Adding...\" type=\"submit\">Add to basket</button>\n",
       " </form>\n",
       " </div>\n",
       " </article>,\n",
       " <article class=\"product_pod\">\n",
       " <div class=\"image_container\">\n",
       " <a href=\"catalogue/the-requiem-red_995/index.html\"><img alt=\"The Requiem Red\" class=\"thumbnail\" src=\"media/cache/68/33/68339b4c9bc034267e1da611ab3b34f8.jpg\"/></a>\n",
       " </div>\n",
       " <p class=\"star-rating One\">\n",
       " <i class=\"icon-star\"></i>\n",
       " <i class=\"icon-star\"></i>\n",
       " <i class=\"icon-star\"></i>\n",
       " <i class=\"icon-star\"></i>\n",
       " <i class=\"icon-star\"></i>\n",
       " </p>\n",
       " <h3><a href=\"catalogue/the-requiem-red_995/index.html\" title=\"The Requiem Red\">The Requiem Red</a></h3>\n",
       " <div class=\"product_price\">\n",
       " <p class=\"price_color\">Â£22.65</p>\n",
       " <p class=\"instock availability\">\n",
       " <i class=\"icon-ok\"></i>\n",
       "     \n",
       "         In stock\n",
       "     \n",
       " </p>\n",
       " <form>\n",
       " <button class=\"btn btn-primary btn-block\" data-loading-text=\"Adding...\" type=\"submit\">Add to basket</button>\n",
       " </form>\n",
       " </div>\n",
       " </article>,\n",
       " <article class=\"product_pod\">\n",
       " <div class=\"image_container\">\n",
       " <a href=\"catalogue/the-dirty-little-secrets-of-getting-your-dream-job_994/index.html\"><img alt=\"The Dirty Little Secrets of Getting Your Dream Job\" class=\"thumbnail\" src=\"media/cache/92/27/92274a95b7c251fea59a2b8a78275ab4.jpg\"/></a>\n",
       " </div>\n",
       " <p class=\"star-rating Four\">\n",
       " <i class=\"icon-star\"></i>\n",
       " <i class=\"icon-star\"></i>\n",
       " <i class=\"icon-star\"></i>\n",
       " <i class=\"icon-star\"></i>\n",
       " <i class=\"icon-star\"></i>\n",
       " </p>\n",
       " <h3><a href=\"catalogue/the-dirty-little-secrets-of-getting-your-dream-job_994/index.html\" title=\"The Dirty Little Secrets of Getting Your Dream Job\">The Dirty Little Secrets ...</a></h3>\n",
       " <div class=\"product_price\">\n",
       " <p class=\"price_color\">Â£33.34</p>\n",
       " <p class=\"instock availability\">\n",
       " <i class=\"icon-ok\"></i>\n",
       "     \n",
       "         In stock\n",
       "     \n",
       " </p>\n",
       " <form>\n",
       " <button class=\"btn btn-primary btn-block\" data-loading-text=\"Adding...\" type=\"submit\">Add to basket</button>\n",
       " </form>\n",
       " </div>\n",
       " </article>,\n",
       " <article class=\"product_pod\">\n",
       " <div class=\"image_container\">\n",
       " <a href=\"catalogue/the-coming-woman-a-novel-based-on-the-life-of-the-infamous-feminist-victoria-woodhull_993/index.html\"><img alt=\"The Coming Woman: A Novel Based on the Life of the Infamous Feminist, Victoria Woodhull\" class=\"thumbnail\" src=\"media/cache/3d/54/3d54940e57e662c4dd1f3ff00c78cc64.jpg\"/></a>\n",
       " </div>\n",
       " <p class=\"star-rating Three\">\n",
       " <i class=\"icon-star\"></i>\n",
       " <i class=\"icon-star\"></i>\n",
       " <i class=\"icon-star\"></i>\n",
       " <i class=\"icon-star\"></i>\n",
       " <i class=\"icon-star\"></i>\n",
       " </p>\n",
       " <h3><a href=\"catalogue/the-coming-woman-a-novel-based-on-the-life-of-the-infamous-feminist-victoria-woodhull_993/index.html\" title=\"The Coming Woman: A Novel Based on the Life of the Infamous Feminist, Victoria Woodhull\">The Coming Woman: A ...</a></h3>\n",
       " <div class=\"product_price\">\n",
       " <p class=\"price_color\">Â£17.93</p>\n",
       " <p class=\"instock availability\">\n",
       " <i class=\"icon-ok\"></i>\n",
       "     \n",
       "         In stock\n",
       "     \n",
       " </p>\n",
       " <form>\n",
       " <button class=\"btn btn-primary btn-block\" data-loading-text=\"Adding...\" type=\"submit\">Add to basket</button>\n",
       " </form>\n",
       " </div>\n",
       " </article>,\n",
       " <article class=\"product_pod\">\n",
       " <div class=\"image_container\">\n",
       " <a href=\"catalogue/the-boys-in-the-boat-nine-americans-and-their-epic-quest-for-gold-at-the-1936-berlin-olympics_992/index.html\"><img alt=\"The Boys in the Boat: Nine Americans and Their Epic Quest for Gold at the 1936 Berlin Olympics\" class=\"thumbnail\" src=\"media/cache/66/88/66883b91f6804b2323c8369331cb7dd1.jpg\"/></a>\n",
       " </div>\n",
       " <p class=\"star-rating Four\">\n",
       " <i class=\"icon-star\"></i>\n",
       " <i class=\"icon-star\"></i>\n",
       " <i class=\"icon-star\"></i>\n",
       " <i class=\"icon-star\"></i>\n",
       " <i class=\"icon-star\"></i>\n",
       " </p>\n",
       " <h3><a href=\"catalogue/the-boys-in-the-boat-nine-americans-and-their-epic-quest-for-gold-at-the-1936-berlin-olympics_992/index.html\" title=\"The Boys in the Boat: Nine Americans and Their Epic Quest for Gold at the 1936 Berlin Olympics\">The Boys in the ...</a></h3>\n",
       " <div class=\"product_price\">\n",
       " <p class=\"price_color\">Â£22.60</p>\n",
       " <p class=\"instock availability\">\n",
       " <i class=\"icon-ok\"></i>\n",
       "     \n",
       "         In stock\n",
       "     \n",
       " </p>\n",
       " <form>\n",
       " <button class=\"btn btn-primary btn-block\" data-loading-text=\"Adding...\" type=\"submit\">Add to basket</button>\n",
       " </form>\n",
       " </div>\n",
       " </article>,\n",
       " <article class=\"product_pod\">\n",
       " <div class=\"image_container\">\n",
       " <a href=\"catalogue/the-black-maria_991/index.html\"><img alt=\"The Black Maria\" class=\"thumbnail\" src=\"media/cache/58/46/5846057e28022268153beff6d352b06c.jpg\"/></a>\n",
       " </div>\n",
       " <p class=\"star-rating One\">\n",
       " <i class=\"icon-star\"></i>\n",
       " <i class=\"icon-star\"></i>\n",
       " <i class=\"icon-star\"></i>\n",
       " <i class=\"icon-star\"></i>\n",
       " <i class=\"icon-star\"></i>\n",
       " </p>\n",
       " <h3><a href=\"catalogue/the-black-maria_991/index.html\" title=\"The Black Maria\">The Black Maria</a></h3>\n",
       " <div class=\"product_price\">\n",
       " <p class=\"price_color\">Â£52.15</p>\n",
       " <p class=\"instock availability\">\n",
       " <i class=\"icon-ok\"></i>\n",
       "     \n",
       "         In stock\n",
       "     \n",
       " </p>\n",
       " <form>\n",
       " <button class=\"btn btn-primary btn-block\" data-loading-text=\"Adding...\" type=\"submit\">Add to basket</button>\n",
       " </form>\n",
       " </div>\n",
       " </article>,\n",
       " <article class=\"product_pod\">\n",
       " <div class=\"image_container\">\n",
       " <a href=\"catalogue/starving-hearts-triangular-trade-trilogy-1_990/index.html\"><img alt=\"Starving Hearts (Triangular Trade Trilogy, #1)\" class=\"thumbnail\" src=\"media/cache/be/f4/bef44da28c98f905a3ebec0b87be8530.jpg\"/></a>\n",
       " </div>\n",
       " <p class=\"star-rating Two\">\n",
       " <i class=\"icon-star\"></i>\n",
       " <i class=\"icon-star\"></i>\n",
       " <i class=\"icon-star\"></i>\n",
       " <i class=\"icon-star\"></i>\n",
       " <i class=\"icon-star\"></i>\n",
       " </p>\n",
       " <h3><a href=\"catalogue/starving-hearts-triangular-trade-trilogy-1_990/index.html\" title=\"Starving Hearts (Triangular Trade Trilogy, #1)\">Starving Hearts (Triangular Trade ...</a></h3>\n",
       " <div class=\"product_price\">\n",
       " <p class=\"price_color\">Â£13.99</p>\n",
       " <p class=\"instock availability\">\n",
       " <i class=\"icon-ok\"></i>\n",
       "     \n",
       "         In stock\n",
       "     \n",
       " </p>\n",
       " <form>\n",
       " <button class=\"btn btn-primary btn-block\" data-loading-text=\"Adding...\" type=\"submit\">Add to basket</button>\n",
       " </form>\n",
       " </div>\n",
       " </article>,\n",
       " <article class=\"product_pod\">\n",
       " <div class=\"image_container\">\n",
       " <a href=\"catalogue/shakespeares-sonnets_989/index.html\"><img alt=\"Shakespeare's Sonnets\" class=\"thumbnail\" src=\"media/cache/10/48/1048f63d3b5061cd2f424d20b3f9b666.jpg\"/></a>\n",
       " </div>\n",
       " <p class=\"star-rating Four\">\n",
       " <i class=\"icon-star\"></i>\n",
       " <i class=\"icon-star\"></i>\n",
       " <i class=\"icon-star\"></i>\n",
       " <i class=\"icon-star\"></i>\n",
       " <i class=\"icon-star\"></i>\n",
       " </p>\n",
       " <h3><a href=\"catalogue/shakespeares-sonnets_989/index.html\" title=\"Shakespeare's Sonnets\">Shakespeare's Sonnets</a></h3>\n",
       " <div class=\"product_price\">\n",
       " <p class=\"price_color\">Â£20.66</p>\n",
       " <p class=\"instock availability\">\n",
       " <i class=\"icon-ok\"></i>\n",
       "     \n",
       "         In stock\n",
       "     \n",
       " </p>\n",
       " <form>\n",
       " <button class=\"btn btn-primary btn-block\" data-loading-text=\"Adding...\" type=\"submit\">Add to basket</button>\n",
       " </form>\n",
       " </div>\n",
       " </article>,\n",
       " <article class=\"product_pod\">\n",
       " <div class=\"image_container\">\n",
       " <a href=\"catalogue/set-me-free_988/index.html\"><img alt=\"Set Me Free\" class=\"thumbnail\" src=\"media/cache/5b/88/5b88c52633f53cacf162c15f4f823153.jpg\"/></a>\n",
       " </div>\n",
       " <p class=\"star-rating Five\">\n",
       " <i class=\"icon-star\"></i>\n",
       " <i class=\"icon-star\"></i>\n",
       " <i class=\"icon-star\"></i>\n",
       " <i class=\"icon-star\"></i>\n",
       " <i class=\"icon-star\"></i>\n",
       " </p>\n",
       " <h3><a href=\"catalogue/set-me-free_988/index.html\" title=\"Set Me Free\">Set Me Free</a></h3>\n",
       " <div class=\"product_price\">\n",
       " <p class=\"price_color\">Â£17.46</p>\n",
       " <p class=\"instock availability\">\n",
       " <i class=\"icon-ok\"></i>\n",
       "     \n",
       "         In stock\n",
       "     \n",
       " </p>\n",
       " <form>\n",
       " <button class=\"btn btn-primary btn-block\" data-loading-text=\"Adding...\" type=\"submit\">Add to basket</button>\n",
       " </form>\n",
       " </div>\n",
       " </article>,\n",
       " <article class=\"product_pod\">\n",
       " <div class=\"image_container\">\n",
       " <a href=\"catalogue/scott-pilgrims-precious-little-life-scott-pilgrim-1_987/index.html\"><img alt=\"Scott Pilgrim's Precious Little Life (Scott Pilgrim #1)\" class=\"thumbnail\" src=\"media/cache/94/b1/94b1b8b244bce9677c2f29ccc890d4d2.jpg\"/></a>\n",
       " </div>\n",
       " <p class=\"star-rating Five\">\n",
       " <i class=\"icon-star\"></i>\n",
       " <i class=\"icon-star\"></i>\n",
       " <i class=\"icon-star\"></i>\n",
       " <i class=\"icon-star\"></i>\n",
       " <i class=\"icon-star\"></i>\n",
       " </p>\n",
       " <h3><a href=\"catalogue/scott-pilgrims-precious-little-life-scott-pilgrim-1_987/index.html\" title=\"Scott Pilgrim's Precious Little Life (Scott Pilgrim #1)\">Scott Pilgrim's Precious Little ...</a></h3>\n",
       " <div class=\"product_price\">\n",
       " <p class=\"price_color\">Â£52.29</p>\n",
       " <p class=\"instock availability\">\n",
       " <i class=\"icon-ok\"></i>\n",
       "     \n",
       "         In stock\n",
       "     \n",
       " </p>\n",
       " <form>\n",
       " <button class=\"btn btn-primary btn-block\" data-loading-text=\"Adding...\" type=\"submit\">Add to basket</button>\n",
       " </form>\n",
       " </div>\n",
       " </article>,\n",
       " <article class=\"product_pod\">\n",
       " <div class=\"image_container\">\n",
       " <a href=\"catalogue/rip-it-up-and-start-again_986/index.html\"><img alt=\"Rip it Up and Start Again\" class=\"thumbnail\" src=\"media/cache/81/c4/81c4a973364e17d01f217e1188253d5e.jpg\"/></a>\n",
       " </div>\n",
       " <p class=\"star-rating Five\">\n",
       " <i class=\"icon-star\"></i>\n",
       " <i class=\"icon-star\"></i>\n",
       " <i class=\"icon-star\"></i>\n",
       " <i class=\"icon-star\"></i>\n",
       " <i class=\"icon-star\"></i>\n",
       " </p>\n",
       " <h3><a href=\"catalogue/rip-it-up-and-start-again_986/index.html\" title=\"Rip it Up and Start Again\">Rip it Up and ...</a></h3>\n",
       " <div class=\"product_price\">\n",
       " <p class=\"price_color\">Â£35.02</p>\n",
       " <p class=\"instock availability\">\n",
       " <i class=\"icon-ok\"></i>\n",
       "     \n",
       "         In stock\n",
       "     \n",
       " </p>\n",
       " <form>\n",
       " <button class=\"btn btn-primary btn-block\" data-loading-text=\"Adding...\" type=\"submit\">Add to basket</button>\n",
       " </form>\n",
       " </div>\n",
       " </article>,\n",
       " <article class=\"product_pod\">\n",
       " <div class=\"image_container\">\n",
       " <a href=\"catalogue/our-band-could-be-your-life-scenes-from-the-american-indie-underground-1981-1991_985/index.html\"><img alt=\"Our Band Could Be Your Life: Scenes from the American Indie Underground, 1981-1991\" class=\"thumbnail\" src=\"media/cache/54/60/54607fe8945897cdcced0044103b10b6.jpg\"/></a>\n",
       " </div>\n",
       " <p class=\"star-rating Three\">\n",
       " <i class=\"icon-star\"></i>\n",
       " <i class=\"icon-star\"></i>\n",
       " <i class=\"icon-star\"></i>\n",
       " <i class=\"icon-star\"></i>\n",
       " <i class=\"icon-star\"></i>\n",
       " </p>\n",
       " <h3><a href=\"catalogue/our-band-could-be-your-life-scenes-from-the-american-indie-underground-1981-1991_985/index.html\" title=\"Our Band Could Be Your Life: Scenes from the American Indie Underground, 1981-1991\">Our Band Could Be ...</a></h3>\n",
       " <div class=\"product_price\">\n",
       " <p class=\"price_color\">Â£57.25</p>\n",
       " <p class=\"instock availability\">\n",
       " <i class=\"icon-ok\"></i>\n",
       "     \n",
       "         In stock\n",
       "     \n",
       " </p>\n",
       " <form>\n",
       " <button class=\"btn btn-primary btn-block\" data-loading-text=\"Adding...\" type=\"submit\">Add to basket</button>\n",
       " </form>\n",
       " </div>\n",
       " </article>,\n",
       " <article class=\"product_pod\">\n",
       " <div class=\"image_container\">\n",
       " <a href=\"catalogue/olio_984/index.html\"><img alt=\"Olio\" class=\"thumbnail\" src=\"media/cache/55/33/553310a7162dfbc2c6d19a84da0df9e1.jpg\"/></a>\n",
       " </div>\n",
       " <p class=\"star-rating One\">\n",
       " <i class=\"icon-star\"></i>\n",
       " <i class=\"icon-star\"></i>\n",
       " <i class=\"icon-star\"></i>\n",
       " <i class=\"icon-star\"></i>\n",
       " <i class=\"icon-star\"></i>\n",
       " </p>\n",
       " <h3><a href=\"catalogue/olio_984/index.html\" title=\"Olio\">Olio</a></h3>\n",
       " <div class=\"product_price\">\n",
       " <p class=\"price_color\">Â£23.88</p>\n",
       " <p class=\"instock availability\">\n",
       " <i class=\"icon-ok\"></i>\n",
       "     \n",
       "         In stock\n",
       "     \n",
       " </p>\n",
       " <form>\n",
       " <button class=\"btn btn-primary btn-block\" data-loading-text=\"Adding...\" type=\"submit\">Add to basket</button>\n",
       " </form>\n",
       " </div>\n",
       " </article>,\n",
       " <article class=\"product_pod\">\n",
       " <div class=\"image_container\">\n",
       " <a href=\"catalogue/mesaerion-the-best-science-fiction-stories-1800-1849_983/index.html\"><img alt=\"Mesaerion: The Best Science Fiction Stories 1800-1849\" class=\"thumbnail\" src=\"media/cache/09/a3/09a3aef48557576e1a85ba7efea8ecb7.jpg\"/></a>\n",
       " </div>\n",
       " <p class=\"star-rating One\">\n",
       " <i class=\"icon-star\"></i>\n",
       " <i class=\"icon-star\"></i>\n",
       " <i class=\"icon-star\"></i>\n",
       " <i class=\"icon-star\"></i>\n",
       " <i class=\"icon-star\"></i>\n",
       " </p>\n",
       " <h3><a href=\"catalogue/mesaerion-the-best-science-fiction-stories-1800-1849_983/index.html\" title=\"Mesaerion: The Best Science Fiction Stories 1800-1849\">Mesaerion: The Best Science ...</a></h3>\n",
       " <div class=\"product_price\">\n",
       " <p class=\"price_color\">Â£37.59</p>\n",
       " <p class=\"instock availability\">\n",
       " <i class=\"icon-ok\"></i>\n",
       "     \n",
       "         In stock\n",
       "     \n",
       " </p>\n",
       " <form>\n",
       " <button class=\"btn btn-primary btn-block\" data-loading-text=\"Adding...\" type=\"submit\">Add to basket</button>\n",
       " </form>\n",
       " </div>\n",
       " </article>,\n",
       " <article class=\"product_pod\">\n",
       " <div class=\"image_container\">\n",
       " <a href=\"catalogue/libertarianism-for-beginners_982/index.html\"><img alt=\"Libertarianism for Beginners\" class=\"thumbnail\" src=\"media/cache/0b/bc/0bbcd0a6f4bcd81ccb1049a52736406e.jpg\"/></a>\n",
       " </div>\n",
       " <p class=\"star-rating Two\">\n",
       " <i class=\"icon-star\"></i>\n",
       " <i class=\"icon-star\"></i>\n",
       " <i class=\"icon-star\"></i>\n",
       " <i class=\"icon-star\"></i>\n",
       " <i class=\"icon-star\"></i>\n",
       " </p>\n",
       " <h3><a href=\"catalogue/libertarianism-for-beginners_982/index.html\" title=\"Libertarianism for Beginners\">Libertarianism for Beginners</a></h3>\n",
       " <div class=\"product_price\">\n",
       " <p class=\"price_color\">Â£51.33</p>\n",
       " <p class=\"instock availability\">\n",
       " <i class=\"icon-ok\"></i>\n",
       "     \n",
       "         In stock\n",
       "     \n",
       " </p>\n",
       " <form>\n",
       " <button class=\"btn btn-primary btn-block\" data-loading-text=\"Adding...\" type=\"submit\">Add to basket</button>\n",
       " </form>\n",
       " </div>\n",
       " </article>,\n",
       " <article class=\"product_pod\">\n",
       " <div class=\"image_container\">\n",
       " <a href=\"catalogue/its-only-the-himalayas_981/index.html\"><img alt=\"It's Only the Himalayas\" class=\"thumbnail\" src=\"media/cache/27/a5/27a53d0bb95bdd88288eaf66c9230d7e.jpg\"/></a>\n",
       " </div>\n",
       " <p class=\"star-rating Two\">\n",
       " <i class=\"icon-star\"></i>\n",
       " <i class=\"icon-star\"></i>\n",
       " <i class=\"icon-star\"></i>\n",
       " <i class=\"icon-star\"></i>\n",
       " <i class=\"icon-star\"></i>\n",
       " </p>\n",
       " <h3><a href=\"catalogue/its-only-the-himalayas_981/index.html\" title=\"It's Only the Himalayas\">It's Only the Himalayas</a></h3>\n",
       " <div class=\"product_price\">\n",
       " <p class=\"price_color\">Â£45.17</p>\n",
       " <p class=\"instock availability\">\n",
       " <i class=\"icon-ok\"></i>\n",
       "     \n",
       "         In stock\n",
       "     \n",
       " </p>\n",
       " <form>\n",
       " <button class=\"btn btn-primary btn-block\" data-loading-text=\"Adding...\" type=\"submit\">Add to basket</button>\n",
       " </form>\n",
       " </div>\n",
       " </article>]"
      ]
     },
     "execution_count": 112,
     "metadata": {},
     "output_type": "execute_result"
    }
   ],
   "source": [
    "books"
   ]
  },
  {
   "cell_type": "code",
   "execution_count": 118,
   "metadata": {},
   "outputs": [],
   "source": [
    "books_url = []\n",
    "for i in books:\n",
    "    books_url.append('https://books.toscrape.com/'+i.h3.a['href'])\n",
    "#     print('https://books.toscrape.com/'+i.h3.a['href'])"
   ]
  },
  {
   "cell_type": "code",
   "execution_count": 119,
   "metadata": {},
   "outputs": [
    {
     "data": {
      "text/plain": [
       "['https://books.toscrape.com/catalogue/a-light-in-the-attic_1000/index.html',\n",
       " 'https://books.toscrape.com/catalogue/tipping-the-velvet_999/index.html',\n",
       " 'https://books.toscrape.com/catalogue/soumission_998/index.html',\n",
       " 'https://books.toscrape.com/catalogue/sharp-objects_997/index.html',\n",
       " 'https://books.toscrape.com/catalogue/sapiens-a-brief-history-of-humankind_996/index.html',\n",
       " 'https://books.toscrape.com/catalogue/the-requiem-red_995/index.html',\n",
       " 'https://books.toscrape.com/catalogue/the-dirty-little-secrets-of-getting-your-dream-job_994/index.html',\n",
       " 'https://books.toscrape.com/catalogue/the-coming-woman-a-novel-based-on-the-life-of-the-infamous-feminist-victoria-woodhull_993/index.html',\n",
       " 'https://books.toscrape.com/catalogue/the-boys-in-the-boat-nine-americans-and-their-epic-quest-for-gold-at-the-1936-berlin-olympics_992/index.html',\n",
       " 'https://books.toscrape.com/catalogue/the-black-maria_991/index.html',\n",
       " 'https://books.toscrape.com/catalogue/starving-hearts-triangular-trade-trilogy-1_990/index.html',\n",
       " 'https://books.toscrape.com/catalogue/shakespeares-sonnets_989/index.html',\n",
       " 'https://books.toscrape.com/catalogue/set-me-free_988/index.html',\n",
       " 'https://books.toscrape.com/catalogue/scott-pilgrims-precious-little-life-scott-pilgrim-1_987/index.html',\n",
       " 'https://books.toscrape.com/catalogue/rip-it-up-and-start-again_986/index.html',\n",
       " 'https://books.toscrape.com/catalogue/our-band-could-be-your-life-scenes-from-the-american-indie-underground-1981-1991_985/index.html',\n",
       " 'https://books.toscrape.com/catalogue/olio_984/index.html',\n",
       " 'https://books.toscrape.com/catalogue/mesaerion-the-best-science-fiction-stories-1800-1849_983/index.html',\n",
       " 'https://books.toscrape.com/catalogue/libertarianism-for-beginners_982/index.html',\n",
       " 'https://books.toscrape.com/catalogue/its-only-the-himalayas_981/index.html']"
      ]
     },
     "execution_count": 119,
     "metadata": {},
     "output_type": "execute_result"
    }
   ],
   "source": [
    "books_url"
   ]
  },
  {
   "cell_type": "code",
   "execution_count": 127,
   "metadata": {},
   "outputs": [],
   "source": [
    "# all_urls = ['https://books.toscrape.com/catalogue/page-1.html']\n",
    "\n",
    "# current_page = 'https://books.toscrape.com/catalogue/page-1.html'\n",
    "\n",
    "# base_url = 'https://books.toscrape.com/catalogue/'\n",
    "# response = requests.get(current_page)\n",
    "\n",
    "# while response.status_code == 200:\n",
    "    \n",
    "#     data = BeautifulSoup(response.text,'html.parser')\n",
    "#     next_page = data.find(class_ = \"next\")\n",
    "#     next_page_url = base_url + next_page.a[\"href\"]\n",
    "#     print(next_page_url)\n",
    "    \n",
    "#     all_urls.append(next_page_url)\n",
    "    \n",
    "#     current_page = next_page_url\n",
    "    \n",
    "#     response = requests.get(current_page)"
   ]
  },
  {
   "cell_type": "code",
   "execution_count": 128,
   "metadata": {},
   "outputs": [],
   "source": [
    "# all_urls"
   ]
  },
  {
   "cell_type": "code",
   "execution_count": 146,
   "metadata": {},
   "outputs": [
    {
     "name": "stdout",
     "output_type": "stream",
     "text": [
      "200\n",
      "https://books.toscrape.com/catalogue/a-light-in-the-attic_1000/index.html\n",
      "A Light in the Attic\n",
      "https://books.toscrape.com/catalogue/a-light-in-the-attic_1000/index.html\n",
      "Â£51.77\n",
      "In stock (22 available)\n"
     ]
    }
   ],
   "source": [
    "\n",
    "response = requests.get('https://books.toscrape.com/')\n",
    "print(response.status_code)\n",
    "data = BeautifulSoup(response.text)\n",
    "b1 = data.find(class_ = \"product_pod\")\n",
    "base_url = 'https://books.toscrape.com/'\n",
    "# print(b1)\n",
    "b1_url = base_url+b1.h3.a['href']\n",
    "print(b1_url)\n",
    "# load the html of 1st book page\n",
    "\n",
    "response = requests.get(b1_url)\n",
    "data = BeautifulSoup(response.text,'html.parser')\n",
    "title = data.h1.string\n",
    "price = data.find(class_ = \"price_color\").string\n",
    "copies = data.find(class_ = \"instock availability\").contents[-1].strip()\n",
    "\n",
    "print(title)\n",
    "print(b1_url)\n",
    "print(price)\n",
    "print(copies)\n"
   ]
  },
  {
   "cell_type": "code",
   "execution_count": null,
   "metadata": {},
   "outputs": [],
   "source": [
    "import re"
   ]
  },
  {
   "cell_type": "code",
   "execution_count": null,
   "metadata": {},
   "outputs": [],
   "source": [
    "re.sea"
   ]
  }
 ],
 "metadata": {
  "kernelspec": {
   "display_name": "Python 3",
   "language": "python",
   "name": "python3"
  }
 },
 "nbformat": 4,
 "nbformat_minor": 4
}
