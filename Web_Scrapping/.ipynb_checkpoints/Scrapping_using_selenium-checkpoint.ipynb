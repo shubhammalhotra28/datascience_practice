{
 "cells": [
  {
   "cell_type": "code",
   "execution_count": 3,
   "metadata": {},
   "outputs": [],
   "source": [
    "from selenium import webdriver"
   ]
  },
  {
   "cell_type": "code",
   "execution_count": 7,
   "metadata": {},
   "outputs": [],
   "source": [
    "driver = webdriver.Safari(executable_path='/usr/bin/safaridriver')"
   ]
  },
  {
   "cell_type": "code",
   "execution_count": 8,
   "metadata": {},
   "outputs": [],
   "source": [
    "driver.get('http://kanview.ka.gov/PayRates/PayRates_Agency.aspx')"
   ]
  },
  {
   "cell_type": "code",
   "execution_count": 11,
   "metadata": {},
   "outputs": [
    {
     "data": {
      "text/plain": [
       "\"\\n\\nfrom bs4 import BeautifulSoup\\n\\nimport pandas as pd\\n\\ndataFrameList = []\\n\\nfor i in range(1):\\n    \\n    link = driver.find_element_by_id('MainContent_uxLeveeel2_JobTitles_uxJobTitleBtn_'+str(i))\\n\\n    link.click()\\n    \\n    data = BeautifulSoup(driver.page_source,'lxml')\\n    \\n    emp_table = data.table\\n    \\n    print(type(emp_table))\\n    \\n    df = pd.read_html(str(emp_table),header = 0)\\n    print(df)\\n\\n\\n\""
      ]
     },
     "execution_count": 11,
     "metadata": {},
     "output_type": "execute_result"
    }
   ],
   "source": [
    "'''\n",
    "# Agency used - Adjutant General\n",
    "\n",
    "from bs4 import BeautifulSoup\n",
    "\n",
    "import pandas as pd\n",
    "\n",
    "\n",
    "a = driver.find_element_by_link_text('Adjutant General')\n",
    "a.click()\n",
    "\n",
    "\n",
    "dataFrameList = []\n",
    "\n",
    "for i in range(73):\n",
    "    \n",
    "    link = driver.find_element_by_id('MainContent_uxLeveeel2_JobTitles_uxJobTitleBtn_'+str(i))\n",
    "\n",
    "    link.click()\n",
    "    \n",
    "    data = BeautifulSoup(driver.page_source,'lxml')\n",
    "    \n",
    "    emp_table = data.table\n",
    "    \n",
    "    print(type(emp_table))\n",
    "    \n",
    "    df = pd.read_html(str(emp_table),header = 0)\n",
    "    #print(df)\n",
    "    dataFrame.append(df(0))\n",
    "    driver.back()\n",
    "\n",
    "'''"
   ]
  },
  {
   "cell_type": "code",
   "execution_count": 12,
   "metadata": {},
   "outputs": [],
   "source": [
    "# to merge dataframes to one big data fframe -> .concat method of\n",
    "# pandas"
   ]
  },
  {
   "cell_type": "code",
   "execution_count": null,
   "metadata": {},
   "outputs": [],
   "source": [
    "'''\n",
    "a = driver.find_element_by_link_text('Board Of Accountancy')\n",
    "a.click()\n",
    "from selenium.common.exceptions import NoSuchElementException\n",
    "\n",
    "\n",
    "\n",
    "\n",
    "dataFrameList = []\n",
    "i = 0\n",
    "while True:\n",
    "    \n",
    "    try:\n",
    "\n",
    "\n",
    "        link = driver.find_element_by_id('MainContent_uxLeveeel2_JobTitles_uxJobTitleBtn_'+str(i))\n",
    "\n",
    "        link.click()\n",
    "\n",
    "        data = BeautifulSoup(driver.page_source,'lxml')\n",
    "\n",
    "        emp_table = data.table\n",
    "\n",
    "        print(type(emp_table))\n",
    "\n",
    "        df = pd.read_html(str(emp_table),header = 0)\n",
    "        #print(df)\n",
    "        dataFrame.append(df(0))\n",
    "        driver.back()\n",
    "        i+=1\n",
    "        \n",
    "    except NoSuchElementException:\n",
    "        \n",
    "        break\n",
    "\n",
    "\n",
    "print(dataFrameList)\n",
    "df = pd.concat(dataFrameLisr,ignore_inde = True)\n",
    "\n",
    "\n",
    "#we can now perorm the analysis on this desired dataframe\n",
    "\n",
    "'''\n"
   ]
  }
 ],
 "metadata": {
  "kernelspec": {
   "display_name": "Python 3",
   "language": "python",
   "name": "python3"
  },
  "language_info": {
   "codemirror_mode": {
    "name": "ipython",
    "version": 3
   },
   "file_extension": ".py",
   "mimetype": "text/x-python",
   "name": "python",
   "nbconvert_exporter": "python",
   "pygments_lexer": "ipython3",
   "version": "3.8.5"
  }
 },
 "nbformat": 4,
 "nbformat_minor": 4
}
