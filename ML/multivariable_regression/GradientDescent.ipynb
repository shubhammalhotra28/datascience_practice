{
 "cells": [
  {
   "cell_type": "code",
   "execution_count": 1,
   "metadata": {},
   "outputs": [],
   "source": [
    "# one dimensional input data"
   ]
  },
  {
   "cell_type": "code",
   "execution_count": 2,
   "metadata": {},
   "outputs": [],
   "source": [
    "import numpy as np\n",
    "# data = np.loadtxt(\"data.csv\",delimiter=',')"
   ]
  },
  {
   "cell_type": "code",
   "execution_count": 6,
   "metadata": {},
   "outputs": [
    {
     "data": {
      "text/plain": [
       "(100, 2)"
      ]
     },
     "execution_count": 6,
     "metadata": {},
     "output_type": "execute_result"
    }
   ],
   "source": [
    "data.shape"
   ]
  },
  {
   "cell_type": "code",
   "execution_count": 15,
   "metadata": {},
   "outputs": [],
   "source": [
    "def step_gradient(points,learning_rate,m,c):\n",
    "    \n",
    "    # m' = m - alpha * slope\n",
    "    # c' = c - alpha * slope \n",
    "    m_slope = 0\n",
    "    c_slope = 0\n",
    "    N = len(points)\n",
    "    for i in range(N):\n",
    "        x = points[i][0]\n",
    "        y = points[i][1]\n",
    "        \n",
    "        m_slope += (-2/N) * (y - m*x - c)*x\n",
    "        c_slope += (-2/N) * (y- m*x - c)*(1)\n",
    "        \n",
    "    new_m = m - m_slope\n",
    "    new_c = c - c_slope\n",
    "    \n",
    "    return new_m,new_c\n"
   ]
  },
  {
   "cell_type": "code",
   "execution_count": 20,
   "metadata": {},
   "outputs": [],
   "source": [
    "def gd(points,learning_rate,num_iterations):\n",
    "    \n",
    "    m = 0\n",
    "    c = 0\n",
    "    for i in range(num_iterations):\n",
    "        \n",
    "        m, c = step_gradient(points,learning_rate,m,c)\n",
    "        print(i,\" cost\",cost(points,m,c))\n",
    "        \n",
    "    return m,c"
   ]
  },
  {
   "cell_type": "code",
   "execution_count": 26,
   "metadata": {},
   "outputs": [],
   "source": [
    "def cost(points,m,c):\n",
    "    total_cost = 0\n",
    "    N = len(points)\n",
    "    for i in range(len(points)):\n",
    "        x = points[i][0]\n",
    "        y = points[i][1]\n",
    "        \n",
    "        total_cost += (1/N) * ((y-m*x-c)**2)\n",
    "    return total_cost\n",
    "        "
   ]
  },
  {
   "cell_type": "code",
   "execution_count": 35,
   "metadata": {},
   "outputs": [],
   "source": [
    "# data\n",
    "def run():\n",
    "    data = np.loadtxt(\"data.csv\",delimiter=',')\n",
    "    learning_rate = 0.0001\n",
    "    num_iterations = 10\n",
    "    \n",
    "    m,c = gd(data,learning_rate,num_iterations)\n",
    "    print(m,c)\n"
   ]
  },
  {
   "cell_type": "code",
   "execution_count": 36,
   "metadata": {},
   "outputs": [
    {
     "name": "stdout",
     "output_type": "stream",
     "text": [
      "0  cost 135377768185.97803\n",
      "1  cost 3.361262550933419e+18\n",
      "2  cost 8.34559920515074e+25\n",
      "3  cost 2.0721090672810185e+33\n",
      "4  cost 5.144790543090385e+40\n",
      "5  cost 1.2773878629373601e+48\n",
      "6  cost 3.171596080954404e+55\n",
      "7  cost 7.874680817457085e+62\n",
      "8  cost 1.9551858557652842e+70\n",
      "9  cost 4.85448466953748e+77\n",
      "-1.3954695010479672e+37 -2.742752785979929e+35\n"
     ]
    }
   ],
   "source": [
    "run()"
   ]
  },
  {
   "cell_type": "code",
   "execution_count": null,
   "metadata": {},
   "outputs": [],
   "source": []
  }
 ],
 "metadata": {
  "kernelspec": {
   "display_name": "Python 3",
   "language": "python",
   "name": "python3"
  },
  "language_info": {
   "codemirror_mode": {
    "name": "ipython",
    "version": 3
   },
   "file_extension": ".py",
   "mimetype": "text/x-python",
   "name": "python",
   "nbconvert_exporter": "python",
   "pygments_lexer": "ipython3",
   "version": "3.8.5"
  }
 },
 "nbformat": 4,
 "nbformat_minor": 4
}
