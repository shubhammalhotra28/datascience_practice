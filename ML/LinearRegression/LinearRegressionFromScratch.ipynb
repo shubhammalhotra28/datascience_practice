{
 "cells": [
  {
   "cell_type": "code",
   "execution_count": 1,
   "metadata": {},
   "outputs": [],
   "source": [
    "import numpy as np"
   ]
  },
  {
   "cell_type": "code",
   "execution_count": 2,
   "metadata": {},
   "outputs": [],
   "source": [
    "data = np.loadtxt(\"data.csv\",delimiter=',')"
   ]
  },
  {
   "cell_type": "code",
   "execution_count": 7,
   "metadata": {},
   "outputs": [],
   "source": [
    "x = data[:,0]\n",
    "y = data[:,1]"
   ]
  },
  {
   "cell_type": "code",
   "execution_count": 8,
   "metadata": {},
   "outputs": [
    {
     "data": {
      "text/plain": [
       "(100,)"
      ]
     },
     "execution_count": 8,
     "metadata": {},
     "output_type": "execute_result"
    }
   ],
   "source": [
    "x.shape"
   ]
  },
  {
   "cell_type": "code",
   "execution_count": 9,
   "metadata": {},
   "outputs": [
    {
     "data": {
      "text/plain": [
       "(100,)"
      ]
     },
     "execution_count": 9,
     "metadata": {},
     "output_type": "execute_result"
    }
   ],
   "source": [
    "y.shape"
   ]
  },
  {
   "cell_type": "code",
   "execution_count": 12,
   "metadata": {},
   "outputs": [
    {
     "data": {
      "text/plain": [
       "(70,)"
      ]
     },
     "execution_count": 12,
     "metadata": {},
     "output_type": "execute_result"
    }
   ],
   "source": [
    "from sklearn import model_selection\n",
    "X_train,X_test,Y_train,Y_test = model_selection.train_test_split(x,y,test_size = 0.3)\n",
    "X_train.shape"
   ]
  },
  {
   "cell_type": "code",
   "execution_count": 14,
   "metadata": {},
   "outputs": [],
   "source": [
    "def fit(x_train,y_train):\n",
    "    \"\"\"\n",
    "    Function responsible to return m and c values\n",
    "    \"\"\"\n",
    "    num = (x_train*y_train).mean() - x_train.mean() * y_train.mean()\n",
    "    \n",
    "    den = (x_train**2).mean() - x_train.mean()**2\n",
    "    \n",
    "    m = num/den\n",
    "    \n",
    "    c = y_train.mean() - m*x_train.mean()\n",
    "    \n",
    "    return m,c\n",
    "    \n",
    "    "
   ]
  },
  {
   "cell_type": "code",
   "execution_count": 15,
   "metadata": {},
   "outputs": [],
   "source": [
    "def predict(x,m,c):\n",
    "    '''\n",
    "    Straight line equation\n",
    "    '''\n",
    "    return m*x + c"
   ]
  },
  {
   "cell_type": "code",
   "execution_count": 20,
   "metadata": {},
   "outputs": [],
   "source": [
    "def score(y_truth,y_predicted):\n",
    "    \n",
    "    '''\n",
    "    1 - (u/v)\n",
    "    '''\n",
    "    \n",
    "    u = ((y_truth-y_predicted)**2).sum()\n",
    "    \n",
    "    v = ((y_truth-y_truth.mean())**2).sum()\n",
    "\n",
    "    return 1-u/v\n",
    "    \n",
    "    \n",
    "def cost(x,y,m,c):\n",
    "    \n",
    "    return ((y - m * x - c)**2).mean()"
   ]
  },
  {
   "cell_type": "code",
   "execution_count": 24,
   "metadata": {},
   "outputs": [
    {
     "name": "stdout",
     "output_type": "stream",
     "text": [
      "Test Score :  0.6657483695501332\n",
      "Train Score:  0.5693049451677331\n",
      "M :  1.3448851011067298 C :  7.167845681990457\n",
      "Final cost on training data :  118.37757134342296\n"
     ]
    }
   ],
   "source": [
    "m , c = fit(X_train,Y_train)\n",
    "# test data\n",
    "y_test_pred = predict(X_test,m,c)\n",
    "print('Test Score : ',score(Y_test,y_test_pred))\n",
    "\n",
    "y_train_pred = predict(X_train,m,c)\n",
    "print('Train Score: ',score(Y_train,y_train_pred))\n",
    "\n",
    "print(\"M : \",m,\"C : \",c)\n",
    "\n",
    "print(\"Final cost on training data : \",cost(X_train,Y_train,m,c)) # min cost by minimal m and c"
   ]
  },
  {
   "cell_type": "code",
   "execution_count": null,
   "metadata": {},
   "outputs": [],
   "source": []
  }
 ],
 "metadata": {
  "kernelspec": {
   "display_name": "Python 3",
   "language": "python",
   "name": "python3"
  },
  "language_info": {
   "codemirror_mode": {
    "name": "ipython",
    "version": 3
   },
   "file_extension": ".py",
   "mimetype": "text/x-python",
   "name": "python",
   "nbconvert_exporter": "python",
   "pygments_lexer": "ipython3",
   "version": "3.8.5"
  }
 },
 "nbformat": 4,
 "nbformat_minor": 4
}
